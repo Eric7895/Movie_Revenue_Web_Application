{
 "cells": [
  {
   "cell_type": "markdown",
   "metadata": {},
   "source": [
    "## Data Preprocessing - IMDB Official Data\n",
    " - Description: Subsets of IMDb data are available for access to customers for personal and non-commercial use. You can hold local copies of this data, and it is subject to our terms and conditions. Please refer to the Non-Commercial Licensing and copyright/license and verify compliance."
   ]
  },
  {
   "cell_type": "code",
   "execution_count": 2,
   "metadata": {},
   "outputs": [],
   "source": [
    "import pandas as pd\n",
    "import numpy as np  # For handling NaN values"
   ]
  },
  {
   "cell_type": "code",
   "execution_count": 3,
   "metadata": {},
   "outputs": [],
   "source": [
    "path1 = 'IMDB_Official_Data/name.basics.tsv'\n",
    "path2 = 'IMDB_Official_Data/title.akas.tsv'\n",
    "path3 = 'IMDB_Official_Data/title.basics.tsv'\n",
    "path4 = 'IMDB_Official_Data/title.crew.tsv'\n",
    "path5 = 'IMDB_Official_Data/title.episode.tsv'\n",
    "path6 = 'IMDB_Official_Data/title.principals.tsv'\n",
    "path7 = 'IMDB_Official_Data/title.ratings.tsv'"
   ]
  },
  {
   "cell_type": "code",
   "execution_count": 4,
   "metadata": {},
   "outputs": [],
   "source": [
    "def initial_inspection(file):\n",
    "    df = pd.read_csv(file, sep='\\t')\n",
    "    print(f'Column attributes: {df.columns}')\n",
    "    print(f'-------------------------------------------------------------------------------------------------------------------------------------------------------')\n",
    "    print(df.head())\n",
    "    return df"
   ]
  },
  {
   "cell_type": "markdown",
   "metadata": {},
   "source": [
    "### Initial Import"
   ]
  },
  {
   "cell_type": "markdown",
   "metadata": {},
   "source": [
    "#### Name basic file\n",
    " - nconst (string) - alphanumeric unique identifier of the name/person\n",
    " - primaryName (string)– name by which the person is most often credited\n",
    " - birthYear – in YYYY format\n",
    " - deathYear – in YYYY format if applicable, else '\\N'\n",
    " - primaryProfession (array of strings)– the top-3 professions of the person\n",
    " - knownForTitles (array of tconsts) – titles the person is known for"
   ]
  },
  {
   "cell_type": "code",
   "execution_count": 5,
   "metadata": {},
   "outputs": [
    {
     "name": "stdout",
     "output_type": "stream",
     "text": [
      "Column attributes: Index(['nconst', 'primaryName', 'birthYear', 'deathYear', 'primaryProfession',\n",
      "       'knownForTitles'],\n",
      "      dtype='object')\n",
      "-------------------------------------------------------------------------------------------------------------------------------------------------------\n",
      "      nconst      primaryName birthYear deathYear  \\\n",
      "0  nm0000001     Fred Astaire      1899      1987   \n",
      "1  nm0000002    Lauren Bacall      1924      2014   \n",
      "2  nm0000003  Brigitte Bardot      1934        \\N   \n",
      "3  nm0000004     John Belushi      1949      1982   \n",
      "4  nm0000005   Ingmar Bergman      1918      2007   \n",
      "\n",
      "                    primaryProfession                           knownForTitles  \n",
      "0        actor,miscellaneous,producer  tt0072308,tt0050419,tt0027125,tt0031983  \n",
      "1  actress,soundtrack,archive_footage  tt0037382,tt0075213,tt0117057,tt0038355  \n",
      "2   actress,music_department,producer  tt0057345,tt0049189,tt0056404,tt0054452  \n",
      "3       actor,writer,music_department  tt0072562,tt0077975,tt0080455,tt0078723  \n",
      "4               writer,director,actor  tt0050986,tt0069467,tt0050976,tt0083922  \n"
     ]
    }
   ],
   "source": [
    "name_basic = initial_inspection(path1)"
   ]
  },
  {
   "cell_type": "markdown",
   "metadata": {},
   "source": [
    "#### Title akas file\n",
    " - titleId (string) - a tconst, an alphanumeric unique identifier of the title\n",
    " - ordering (integer) – a number to uniquely identify rows for a given titleId\n",
    " - title (string) – the localized title\n",
    " - region (string) - the region for this version of the title\n",
    " - language (string) - the language of the title\n",
    " - types (array) - Enumerated set of attributes for this alternative title. One or more of the following: \"alternative\", \"dvd\", \"festival\", \"tv\", \"video\", \"working\", \"original\", \"imdbDisplay\". New values may be added in the future without warning\n",
    " - attributes (array) - Additional terms to describe this alternative title, not enumerated\n",
    " - isOriginalTitle (boolean) – 0: not original title; 1: original title"
   ]
  },
  {
   "cell_type": "code",
   "execution_count": 6,
   "metadata": {},
   "outputs": [
    {
     "name": "stdout",
     "output_type": "stream",
     "text": [
      "Column attributes: Index(['titleId', 'ordering', 'title', 'region', 'language', 'types',\n",
      "       'attributes', 'isOriginalTitle'],\n",
      "      dtype='object')\n",
      "-------------------------------------------------------------------------------------------------------------------------------------------------------\n",
      "     titleId  ordering                      title region language  \\\n",
      "0  tt0000001         1                 Carmencita     \\N       \\N   \n",
      "1  tt0000001         2                 Carmencita     DE       \\N   \n",
      "2  tt0000001         3                 Carmencita     US       \\N   \n",
      "3  tt0000001         4  Carmencita - spanyol tánc     HU       \\N   \n",
      "4  tt0000001         5                 Καρμενσίτα     GR       \\N   \n",
      "\n",
      "         types     attributes  isOriginalTitle  \n",
      "0     original             \\N                1  \n",
      "1           \\N  literal title                0  \n",
      "2  imdbDisplay             \\N                0  \n",
      "3  imdbDisplay             \\N                0  \n",
      "4  imdbDisplay             \\N                0  \n"
     ]
    }
   ],
   "source": [
    "title_akas = initial_inspection(path2)"
   ]
  },
  {
   "cell_type": "markdown",
   "metadata": {},
   "source": [
    "#### Title basic file\n",
    " - tconst (string) - alphanumeric unique identifier of the title\n",
    " - titleType (string) – the type/format of the title (e.g. movie, short, tvseries, tvepisode, video, etc)\n",
    " - primaryTitle (string) – the more popular title / the title used by the filmmakers on promotional materials at the point of release\n",
    " - originalTitle (string) - original title, in the original language\n",
    " - isAdult (boolean) - 0: non-adult title; 1: adult title\n",
    " - startYear (YYYY) – represents the release year of a title. In the case of TV Series, it is the series start year\n",
    " - endYear (YYYY) – TV Series end year. '\\N' for all other title types\n",
    " - runtimeMinutes – primary runtime of the title, in minutes\n",
    " - genres (string array) – includes up to three genres associated with the title"
   ]
  },
  {
   "cell_type": "code",
   "execution_count": 7,
   "metadata": {},
   "outputs": [
    {
     "name": "stderr",
     "output_type": "stream",
     "text": [
      "C:\\Users\\wue77\\AppData\\Local\\Temp\\ipykernel_37936\\3252819041.py:2: DtypeWarning: Columns (4) have mixed types. Specify dtype option on import or set low_memory=False.\n",
      "  df = pd.read_csv(file, sep='\\t')\n"
     ]
    },
    {
     "name": "stdout",
     "output_type": "stream",
     "text": [
      "Column attributes: Index(['tconst', 'titleType', 'primaryTitle', 'originalTitle', 'isAdult',\n",
      "       'startYear', 'endYear', 'runtimeMinutes', 'genres'],\n",
      "      dtype='object')\n",
      "-------------------------------------------------------------------------------------------------------------------------------------------------------\n",
      "      tconst titleType            primaryTitle           originalTitle  \\\n",
      "0  tt0000001     short              Carmencita              Carmencita   \n",
      "1  tt0000002     short  Le clown et ses chiens  Le clown et ses chiens   \n",
      "2  tt0000003     short            Poor Pierrot          Pauvre Pierrot   \n",
      "3  tt0000004     short             Un bon bock             Un bon bock   \n",
      "4  tt0000005     short        Blacksmith Scene        Blacksmith Scene   \n",
      "\n",
      "  isAdult startYear endYear runtimeMinutes                    genres  \n",
      "0       0      1894      \\N              1         Documentary,Short  \n",
      "1       0      1892      \\N              5           Animation,Short  \n",
      "2       0      1892      \\N              5  Animation,Comedy,Romance  \n",
      "3       0      1892      \\N             12           Animation,Short  \n",
      "4       0      1893      \\N              1                     Short  \n"
     ]
    }
   ],
   "source": [
    "title_basic = initial_inspection(path3)"
   ]
  },
  {
   "cell_type": "markdown",
   "metadata": {},
   "source": [
    "#### Title crew file\n",
    " - tconst (string) - alphanumeric unique identifier of the title\n",
    " - directors (array of nconsts) - director(s) of the given title\n",
    " - writers (array of nconsts) – writer(s) of the given title"
   ]
  },
  {
   "cell_type": "code",
   "execution_count": 8,
   "metadata": {},
   "outputs": [
    {
     "name": "stdout",
     "output_type": "stream",
     "text": [
      "Column attributes: Index(['tconst', 'directors', 'writers'], dtype='object')\n",
      "-------------------------------------------------------------------------------------------------------------------------------------------------------\n",
      "      tconst  directors writers\n",
      "0  tt0000001  nm0005690      \\N\n",
      "1  tt0000002  nm0721526      \\N\n",
      "2  tt0000003  nm0721526      \\N\n",
      "3  tt0000004  nm0721526      \\N\n",
      "4  tt0000005  nm0005690      \\N\n"
     ]
    }
   ],
   "source": [
    "title_crew = initial_inspection(path4)"
   ]
  },
  {
   "cell_type": "markdown",
   "metadata": {},
   "source": [
    "#### Title rating \n",
    " - tconst (string) - alphanumeric unique identifier of the title\n",
    " - averageRating – weighted average of all the individual user ratings\n",
    " - numVotes - number of votes the title has received"
   ]
  },
  {
   "cell_type": "code",
   "execution_count": 9,
   "metadata": {},
   "outputs": [
    {
     "name": "stdout",
     "output_type": "stream",
     "text": [
      "Column attributes: Index(['tconst', 'averageRating', 'numVotes'], dtype='object')\n",
      "-------------------------------------------------------------------------------------------------------------------------------------------------------\n",
      "      tconst  averageRating  numVotes\n",
      "0  tt0000001            5.7      2129\n",
      "1  tt0000002            5.6       288\n",
      "2  tt0000003            6.4      2165\n",
      "3  tt0000004            5.3       184\n",
      "4  tt0000005            6.2      2892\n"
     ]
    }
   ],
   "source": [
    "title_rating = initial_inspection(path7)"
   ]
  },
  {
   "cell_type": "markdown",
   "metadata": {},
   "source": [
    "### Initial Merge"
   ]
  },
  {
   "cell_type": "code",
   "execution_count": 10,
   "metadata": {},
   "outputs": [],
   "source": [
    "# Merged movie basic attributes such as title(primary/original), \n",
    "# type, start_year (released year), genre (up to three), director, \n",
    "# average rating, and number of votes received\n",
    "merge_stg0 = title_akas.join(title_basic.set_index('tconst'), \n",
    "                             on='titleId')"
   ]
  },
  {
   "cell_type": "code",
   "execution_count": 11,
   "metadata": {},
   "outputs": [],
   "source": [
    "movie_stg0 = merge_stg0.join(title_crew.set_index('tconst'), \n",
    "                                                on='titleId').join(title_rating.set_index('tconst'), \n",
    "                                                                   on='titleId')"
   ]
  },
  {
   "cell_type": "code",
   "execution_count": 12,
   "metadata": {},
   "outputs": [
    {
     "data": {
      "text/plain": [
       "Index(['titleId', 'ordering', 'title', 'region', 'language', 'types',\n",
       "       'attributes', 'isOriginalTitle', 'titleType', 'primaryTitle',\n",
       "       'originalTitle', 'isAdult', 'startYear', 'endYear', 'runtimeMinutes',\n",
       "       'genres', 'directors', 'writers', 'averageRating', 'numVotes'],\n",
       "      dtype='object')"
      ]
     },
     "execution_count": 12,
     "metadata": {},
     "output_type": "execute_result"
    }
   ],
   "source": [
    "movie_stg0.columns"
   ]
  },
  {
   "cell_type": "code",
   "execution_count": 13,
   "metadata": {},
   "outputs": [],
   "source": [
    "# Remove unrelevant columns\n",
    "movie_stg1 = movie_stg0[['titleId', 'primaryTitle', 'originalTitle', 'titleType', \n",
    "                         'startYear', 'genres', 'directors', 'writers', 'averageRating', 'numVotes']]"
   ]
  },
  {
   "cell_type": "code",
   "execution_count": 14,
   "metadata": {},
   "outputs": [],
   "source": [
    "# Remove duplicate and null value\n",
    "movie_stg2 = movie_stg1[movie_stg1['titleType'] == 'movie'].drop_duplicates(subset=['titleId']).dropna()"
   ]
  },
  {
   "cell_type": "code",
   "execution_count": 15,
   "metadata": {},
   "outputs": [
    {
     "data": {
      "text/html": [
       "<div>\n",
       "<style scoped>\n",
       "    .dataframe tbody tr th:only-of-type {\n",
       "        vertical-align: middle;\n",
       "    }\n",
       "\n",
       "    .dataframe tbody tr th {\n",
       "        vertical-align: top;\n",
       "    }\n",
       "\n",
       "    .dataframe thead th {\n",
       "        text-align: right;\n",
       "    }\n",
       "</style>\n",
       "<table border=\"1\" class=\"dataframe\">\n",
       "  <thead>\n",
       "    <tr style=\"text-align: right;\">\n",
       "      <th></th>\n",
       "      <th>titleId</th>\n",
       "      <th>primaryTitle</th>\n",
       "      <th>originalTitle</th>\n",
       "      <th>titleType</th>\n",
       "      <th>startYear</th>\n",
       "      <th>genres</th>\n",
       "      <th>directors</th>\n",
       "      <th>writers</th>\n",
       "      <th>averageRating</th>\n",
       "      <th>numVotes</th>\n",
       "    </tr>\n",
       "  </thead>\n",
       "  <tbody>\n",
       "    <tr>\n",
       "      <th>74</th>\n",
       "      <td>tt0000009</td>\n",
       "      <td>Miss Jerry</td>\n",
       "      <td>Miss Jerry</td>\n",
       "      <td>movie</td>\n",
       "      <td>1894</td>\n",
       "      <td>Romance</td>\n",
       "      <td>nm0085156</td>\n",
       "      <td>nm0085156</td>\n",
       "      <td>5.4</td>\n",
       "      <td>218.0</td>\n",
       "    </tr>\n",
       "    <tr>\n",
       "      <th>763</th>\n",
       "      <td>tt0000147</td>\n",
       "      <td>The Corbett-Fitzsimmons Fight</td>\n",
       "      <td>The Corbett-Fitzsimmons Fight</td>\n",
       "      <td>movie</td>\n",
       "      <td>1897</td>\n",
       "      <td>Documentary,News,Sport</td>\n",
       "      <td>nm0714557</td>\n",
       "      <td>\\N</td>\n",
       "      <td>5.3</td>\n",
       "      <td>549.0</td>\n",
       "    </tr>\n",
       "    <tr>\n",
       "      <th>2069</th>\n",
       "      <td>tt0000502</td>\n",
       "      <td>Bohemios</td>\n",
       "      <td>Bohemios</td>\n",
       "      <td>movie</td>\n",
       "      <td>1905</td>\n",
       "      <td>\\N</td>\n",
       "      <td>nm0063413</td>\n",
       "      <td>nm0063413,nm0657268,nm0675388</td>\n",
       "      <td>3.8</td>\n",
       "      <td>20.0</td>\n",
       "    </tr>\n",
       "    <tr>\n",
       "      <th>2330</th>\n",
       "      <td>tt0000574</td>\n",
       "      <td>The Story of the Kelly Gang</td>\n",
       "      <td>The Story of the Kelly Gang</td>\n",
       "      <td>movie</td>\n",
       "      <td>1906</td>\n",
       "      <td>Action,Adventure,Biography</td>\n",
       "      <td>nm0846879</td>\n",
       "      <td>nm0846879</td>\n",
       "      <td>6.0</td>\n",
       "      <td>970.0</td>\n",
       "    </tr>\n",
       "    <tr>\n",
       "      <th>2399</th>\n",
       "      <td>tt0000591</td>\n",
       "      <td>The Prodigal Son</td>\n",
       "      <td>L'enfant prodigue</td>\n",
       "      <td>movie</td>\n",
       "      <td>1907</td>\n",
       "      <td>Drama</td>\n",
       "      <td>nm0141150</td>\n",
       "      <td>nm0141150</td>\n",
       "      <td>5.6</td>\n",
       "      <td>30.0</td>\n",
       "    </tr>\n",
       "  </tbody>\n",
       "</table>\n",
       "</div>"
      ],
      "text/plain": [
       "        titleId                   primaryTitle                  originalTitle  \\\n",
       "74    tt0000009                     Miss Jerry                     Miss Jerry   \n",
       "763   tt0000147  The Corbett-Fitzsimmons Fight  The Corbett-Fitzsimmons Fight   \n",
       "2069  tt0000502                       Bohemios                       Bohemios   \n",
       "2330  tt0000574    The Story of the Kelly Gang    The Story of the Kelly Gang   \n",
       "2399  tt0000591               The Prodigal Son              L'enfant prodigue   \n",
       "\n",
       "     titleType startYear                      genres  directors  \\\n",
       "74       movie      1894                     Romance  nm0085156   \n",
       "763      movie      1897      Documentary,News,Sport  nm0714557   \n",
       "2069     movie      1905                          \\N  nm0063413   \n",
       "2330     movie      1906  Action,Adventure,Biography  nm0846879   \n",
       "2399     movie      1907                       Drama  nm0141150   \n",
       "\n",
       "                            writers  averageRating  numVotes  \n",
       "74                        nm0085156            5.4     218.0  \n",
       "763                              \\N            5.3     549.0  \n",
       "2069  nm0063413,nm0657268,nm0675388            3.8      20.0  \n",
       "2330                      nm0846879            6.0     970.0  \n",
       "2399                      nm0141150            5.6      30.0  "
      ]
     },
     "execution_count": 15,
     "metadata": {},
     "output_type": "execute_result"
    }
   ],
   "source": [
    "movie_stg2.head()"
   ]
  },
  {
   "cell_type": "code",
   "execution_count": 16,
   "metadata": {},
   "outputs": [
    {
     "data": {
      "text/plain": [
       "(324324, 10)"
      ]
     },
     "execution_count": 16,
     "metadata": {},
     "output_type": "execute_result"
    }
   ],
   "source": [
    "movie_stg2.shape"
   ]
  },
  {
   "cell_type": "code",
   "execution_count": 17,
   "metadata": {},
   "outputs": [
    {
     "data": {
      "text/plain": [
       "287090"
      ]
     },
     "execution_count": 17,
     "metadata": {},
     "output_type": "execute_result"
    }
   ],
   "source": [
    "len(list(movie_stg2['primaryTitle'].unique()))"
   ]
  },
  {
   "cell_type": "markdown",
   "metadata": {},
   "source": [
    "### Unmask director/writer name"
   ]
  },
  {
   "cell_type": "code",
   "execution_count": 18,
   "metadata": {},
   "outputs": [
    {
     "name": "stderr",
     "output_type": "stream",
     "text": [
      "C:\\Users\\wue77\\AppData\\Local\\Temp\\ipykernel_37936\\1745671094.py:4: FutureWarning: Series.__getitem__ treating keys as positions is deprecated. In a future version, integer keys will always be treated as labels (consistent with DataFrame behavior). To access a value by position, use `ser.iloc[pos]`\n",
      "  name_dict[name_basic.iloc[i][0]] = name_basic.iloc[i][1]\n"
     ]
    }
   ],
   "source": [
    "name_dict = {}\n",
    "\n",
    "for i in range(len(name_basic)):\n",
    "    name_dict[name_basic.iloc[i][0]] = name_basic.iloc[i][1]"
   ]
  },
  {
   "cell_type": "code",
   "execution_count": 19,
   "metadata": {},
   "outputs": [],
   "source": [
    "# Create a deep copy and reset index for positional alignment\n",
    "movie_stg3 = movie_stg2.copy(deep=True).reset_index(drop=True)\n",
    "\n",
    "# Test on the first 5 rows\n",
    "for i in range(movie_stg3.shape[0]):\n",
    "    # Access data using iloc (position-based)\n",
    "    directors = movie_stg3.iloc[i, 6]  # Column 6: 'directors'\n",
    "    writers = movie_stg3.iloc[i, 7]    # Column 7: 'writers'\n",
    "\n",
    "    # Handle missing values (split into list or empty list)\n",
    "    directors_split = (\n",
    "        []\n",
    "        if pd.isna(directors) or directors == '\\\\N'\n",
    "        else directors.split(',')\n",
    "    )\n",
    "    writers_split = (\n",
    "        []\n",
    "        if pd.isna(writers) or writers == '\\\\N'\n",
    "        else writers.split(',')\n",
    "    )\n",
    "\n",
    "    # Map IDs to names using name_dict (strip whitespace)\n",
    "    directors_split = [name_dict.get(d.strip(), d) for d in directors_split]\n",
    "    writers_split = [name_dict.get(w.strip(), w) for w in writers_split]\n",
    "\n",
    "    # Join lists into strings, use NaN if empty\n",
    "    joined_director = (\n",
    "        ','.join(directors_split) if directors_split else np.nan\n",
    "    )\n",
    "    joined_writer = (\n",
    "        ','.join(writers_split) if writers_split else np.nan\n",
    "    )\n",
    "\n",
    "    # Update the DataFrame with NaN for empty values\n",
    "    movie_stg3.at[i, 'directors'] = joined_director\n",
    "    movie_stg3.at[i, 'writers'] = joined_writer"
   ]
  },
  {
   "cell_type": "code",
   "execution_count": 20,
   "metadata": {},
   "outputs": [
    {
     "data": {
      "text/plain": [
       "titleId              0\n",
       "primaryTitle         0\n",
       "originalTitle        0\n",
       "titleType            0\n",
       "startYear            0\n",
       "genres               0\n",
       "directors         3965\n",
       "writers          40596\n",
       "averageRating        0\n",
       "numVotes             0\n",
       "dtype: int64"
      ]
     },
     "execution_count": 20,
     "metadata": {},
     "output_type": "execute_result"
    }
   ],
   "source": [
    "movie_stg3.isna().sum()"
   ]
  },
  {
   "cell_type": "code",
   "execution_count": 21,
   "metadata": {},
   "outputs": [
    {
     "data": {
      "text/plain": [
       "(324324, 10)"
      ]
     },
     "execution_count": 21,
     "metadata": {},
     "output_type": "execute_result"
    }
   ],
   "source": [
    "movie_stg3.shape"
   ]
  },
  {
   "cell_type": "code",
   "execution_count": 22,
   "metadata": {},
   "outputs": [],
   "source": [
    "movie_stg3.to_csv('data/imdb_data.csv')"
   ]
  }
 ],
 "metadata": {
  "kernelspec": {
   "display_name": "movie_env",
   "language": "python",
   "name": "python3"
  },
  "language_info": {
   "codemirror_mode": {
    "name": "ipython",
    "version": 3
   },
   "file_extension": ".py",
   "mimetype": "text/x-python",
   "name": "python",
   "nbconvert_exporter": "python",
   "pygments_lexer": "ipython3",
   "version": "3.13.1"
  }
 },
 "nbformat": 4,
 "nbformat_minor": 2
}
