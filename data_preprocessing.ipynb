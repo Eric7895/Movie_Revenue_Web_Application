{
 "cells": [
  {
   "cell_type": "markdown",
   "metadata": {},
   "source": [
    "## Preprocessing final csv file\n",
    " - Drop unrelevant covariates.\n",
    " - Create numerical encoding for categorical variable.\n",
    " - Discuss real dollar conversion on movie revenue."
   ]
  },
  {
   "cell_type": "markdown",
   "metadata": {},
   "source": [
    "### Inital Inspection"
   ]
  },
  {
   "cell_type": "code",
   "execution_count": 1,
   "metadata": {},
   "outputs": [],
   "source": [
    "# Import libraries\n",
    "import pandas as pd"
   ]
  },
  {
   "cell_type": "code",
   "execution_count": 2,
   "metadata": {},
   "outputs": [],
   "source": [
    "path = 'data/final_dataset.csv'\n",
    "df = pd.read_csv(path)"
   ]
  },
  {
   "cell_type": "code",
   "execution_count": null,
   "metadata": {},
   "outputs": [
    {
     "data": {
      "text/plain": [
       "(8854, 28)"
      ]
     },
     "execution_count": 3,
     "metadata": {},
     "output_type": "execute_result"
    }
   ],
   "source": [
    "df.shape"
   ]
  },
  {
   "cell_type": "code",
   "execution_count": null,
   "metadata": {},
   "outputs": [
    {
     "data": {
      "text/plain": [
       "Index(['Unnamed: 0', 'primaryTitle', 'originalTitle', 'startYear', 'Genre',\n",
       "       'directors', 'writers', 'averageRating', 'numVotes', 'title', 'genres',\n",
       "       'original_language', 'overview', 'popularity', 'production_companies',\n",
       "       'release_date', 'budget', 'revenue', 'runtime', 'status',\n",
       "       'vote_average', 'vote_count', 'credits', 'keywords', 'trailer_views',\n",
       "       'trailer_likes', 'year_released', 'actors'],\n",
       "      dtype='object')"
      ]
     },
     "execution_count": 6,
     "metadata": {},
     "output_type": "execute_result"
    }
   ],
   "source": [
    "df.columns # Drop ['Unnamed: 0', 'originalTitle', 'title', 'genres', 'status', 'year_released', 'overview', 'credits']"
   ]
  },
  {
   "cell_type": "code",
   "execution_count": null,
   "metadata": {},
   "outputs": [
    {
     "data": {
      "text/html": [
       "<div>\n",
       "<style scoped>\n",
       "    .dataframe tbody tr th:only-of-type {\n",
       "        vertical-align: middle;\n",
       "    }\n",
       "\n",
       "    .dataframe tbody tr th {\n",
       "        vertical-align: top;\n",
       "    }\n",
       "\n",
       "    .dataframe thead th {\n",
       "        text-align: right;\n",
       "    }\n",
       "</style>\n",
       "<table border=\"1\" class=\"dataframe\">\n",
       "  <thead>\n",
       "    <tr style=\"text-align: right;\">\n",
       "      <th></th>\n",
       "      <th>Unnamed: 0</th>\n",
       "      <th>primaryTitle</th>\n",
       "      <th>originalTitle</th>\n",
       "      <th>startYear</th>\n",
       "      <th>Genre</th>\n",
       "      <th>directors</th>\n",
       "      <th>writers</th>\n",
       "      <th>averageRating</th>\n",
       "      <th>numVotes</th>\n",
       "      <th>title</th>\n",
       "      <th>...</th>\n",
       "      <th>runtime</th>\n",
       "      <th>status</th>\n",
       "      <th>vote_average</th>\n",
       "      <th>vote_count</th>\n",
       "      <th>credits</th>\n",
       "      <th>keywords</th>\n",
       "      <th>trailer_views</th>\n",
       "      <th>trailer_likes</th>\n",
       "      <th>year_released</th>\n",
       "      <th>actors</th>\n",
       "    </tr>\n",
       "  </thead>\n",
       "  <tbody>\n",
       "    <tr>\n",
       "      <th>0</th>\n",
       "      <td>0</td>\n",
       "      <td>Spy Hard</td>\n",
       "      <td>Spy Hard</td>\n",
       "      <td>1996</td>\n",
       "      <td>Action,Comedy</td>\n",
       "      <td>Rick Friedberg</td>\n",
       "      <td>Jason Friedberg,Aaron Seltzer,Rick Friedberg,D...</td>\n",
       "      <td>5.3</td>\n",
       "      <td>41345.0</td>\n",
       "      <td>Spy Hard</td>\n",
       "      <td>...</td>\n",
       "      <td>81.0</td>\n",
       "      <td>Released</td>\n",
       "      <td>5.300</td>\n",
       "      <td>513.0</td>\n",
       "      <td>Leslie Nielsen-Nicollette Sheridan-Charles Dur...</td>\n",
       "      <td>atomic bomb-spoof-james bond spoof</td>\n",
       "      <td>8.209681e+06</td>\n",
       "      <td>4.584299e+06</td>\n",
       "      <td>1996</td>\n",
       "      <td>['Leslie Nielsen', 'Nicollette Sheridan', 'Cha...</td>\n",
       "    </tr>\n",
       "    <tr>\n",
       "      <th>1</th>\n",
       "      <td>1</td>\n",
       "      <td>Squeeze</td>\n",
       "      <td>Squeeze</td>\n",
       "      <td>1997</td>\n",
       "      <td>Crime,Drama,Thriller</td>\n",
       "      <td>Robert Patton-Spruill</td>\n",
       "      <td>Robert Patton-Spruill,Emmett Folgert</td>\n",
       "      <td>5.9</td>\n",
       "      <td>354.0</td>\n",
       "      <td>Squeeze</td>\n",
       "      <td>...</td>\n",
       "      <td>95.0</td>\n",
       "      <td>Released</td>\n",
       "      <td>5.800</td>\n",
       "      <td>4.0</td>\n",
       "      <td>Tyrone Burton-Eddie Cutanda-Phuong Duong-Geoff...</td>\n",
       "      <td>NaN</td>\n",
       "      <td>1.845607e+03</td>\n",
       "      <td>2.645379e+03</td>\n",
       "      <td>1997</td>\n",
       "      <td>[]</td>\n",
       "    </tr>\n",
       "    <tr>\n",
       "      <th>2</th>\n",
       "      <td>2</td>\n",
       "      <td>Star Trek: First Contact</td>\n",
       "      <td>Star Trek: First Contact</td>\n",
       "      <td>1996</td>\n",
       "      <td>Action,Adventure,Drama</td>\n",
       "      <td>Jonathan Frakes</td>\n",
       "      <td>Gene Roddenberry,Rick Berman,Brannon Braga,Ron...</td>\n",
       "      <td>7.6</td>\n",
       "      <td>134361.0</td>\n",
       "      <td>Star Trek: First Contact</td>\n",
       "      <td>...</td>\n",
       "      <td>111.0</td>\n",
       "      <td>Released</td>\n",
       "      <td>7.300</td>\n",
       "      <td>1496.0</td>\n",
       "      <td>Patrick Stewart-Jonathan Frakes-Brent Spiner-L...</td>\n",
       "      <td>borg-enterprise-e-cyborg-montana-resistance-in...</td>\n",
       "      <td>7.870973e+06</td>\n",
       "      <td>4.965223e+06</td>\n",
       "      <td>1996</td>\n",
       "      <td>['Patrick Stewart', 'Jonathan Frakes', 'Brent ...</td>\n",
       "    </tr>\n",
       "    <tr>\n",
       "      <th>3</th>\n",
       "      <td>3</td>\n",
       "      <td>Striptease</td>\n",
       "      <td>Striptease</td>\n",
       "      <td>1996</td>\n",
       "      <td>Comedy,Crime,Drama</td>\n",
       "      <td>Andrew Bergman</td>\n",
       "      <td>Carl Hiaasen,Andrew Bergman</td>\n",
       "      <td>4.6</td>\n",
       "      <td>49509.0</td>\n",
       "      <td>Striptease</td>\n",
       "      <td>...</td>\n",
       "      <td>115.0</td>\n",
       "      <td>Released</td>\n",
       "      <td>5.584</td>\n",
       "      <td>925.0</td>\n",
       "      <td>Demi Moore-Burt Reynolds-Armand Assante-Ving R...</td>\n",
       "      <td>blackmail-strip club-striptease-police-satire-...</td>\n",
       "      <td>5.517640e+06</td>\n",
       "      <td>3.541018e+06</td>\n",
       "      <td>1996</td>\n",
       "      <td>['Demi Moore', 'Armand Assante', 'Ving Rhames'...</td>\n",
       "    </tr>\n",
       "    <tr>\n",
       "      <th>4</th>\n",
       "      <td>4</td>\n",
       "      <td>The Stupids</td>\n",
       "      <td>The Stupids</td>\n",
       "      <td>1996</td>\n",
       "      <td>Adventure,Comedy</td>\n",
       "      <td>John Landis</td>\n",
       "      <td>James Marshall,Harry Allard,Brent Forrester</td>\n",
       "      <td>4.3</td>\n",
       "      <td>7338.0</td>\n",
       "      <td>The Stupids</td>\n",
       "      <td>...</td>\n",
       "      <td>94.0</td>\n",
       "      <td>Released</td>\n",
       "      <td>4.700</td>\n",
       "      <td>54.0</td>\n",
       "      <td>Tom Arnold-Jessica Lundy-Bug Hall-Alex McKenna...</td>\n",
       "      <td>conspiracy theory-aftercreditsstinger</td>\n",
       "      <td>7.088792e+05</td>\n",
       "      <td>1.223100e+06</td>\n",
       "      <td>1996</td>\n",
       "      <td>['Tom Arnold', 'Jessica Lundy', 'Bug Hall', 'A...</td>\n",
       "    </tr>\n",
       "  </tbody>\n",
       "</table>\n",
       "<p>5 rows × 28 columns</p>\n",
       "</div>"
      ],
      "text/plain": [
       "   Unnamed: 0              primaryTitle             originalTitle  startYear  \\\n",
       "0           0                  Spy Hard                  Spy Hard       1996   \n",
       "1           1                   Squeeze                   Squeeze       1997   \n",
       "2           2  Star Trek: First Contact  Star Trek: First Contact       1996   \n",
       "3           3                Striptease                Striptease       1996   \n",
       "4           4               The Stupids               The Stupids       1996   \n",
       "\n",
       "                    Genre              directors  \\\n",
       "0           Action,Comedy         Rick Friedberg   \n",
       "1    Crime,Drama,Thriller  Robert Patton-Spruill   \n",
       "2  Action,Adventure,Drama        Jonathan Frakes   \n",
       "3      Comedy,Crime,Drama         Andrew Bergman   \n",
       "4        Adventure,Comedy            John Landis   \n",
       "\n",
       "                                             writers  averageRating  numVotes  \\\n",
       "0  Jason Friedberg,Aaron Seltzer,Rick Friedberg,D...            5.3   41345.0   \n",
       "1               Robert Patton-Spruill,Emmett Folgert            5.9     354.0   \n",
       "2  Gene Roddenberry,Rick Berman,Brannon Braga,Ron...            7.6  134361.0   \n",
       "3                        Carl Hiaasen,Andrew Bergman            4.6   49509.0   \n",
       "4        James Marshall,Harry Allard,Brent Forrester            4.3    7338.0   \n",
       "\n",
       "                      title  ... runtime    status vote_average  vote_count  \\\n",
       "0                  Spy Hard  ...    81.0  Released        5.300       513.0   \n",
       "1                   Squeeze  ...    95.0  Released        5.800         4.0   \n",
       "2  Star Trek: First Contact  ...   111.0  Released        7.300      1496.0   \n",
       "3                Striptease  ...   115.0  Released        5.584       925.0   \n",
       "4               The Stupids  ...    94.0  Released        4.700        54.0   \n",
       "\n",
       "                                             credits  \\\n",
       "0  Leslie Nielsen-Nicollette Sheridan-Charles Dur...   \n",
       "1  Tyrone Burton-Eddie Cutanda-Phuong Duong-Geoff...   \n",
       "2  Patrick Stewart-Jonathan Frakes-Brent Spiner-L...   \n",
       "3  Demi Moore-Burt Reynolds-Armand Assante-Ving R...   \n",
       "4  Tom Arnold-Jessica Lundy-Bug Hall-Alex McKenna...   \n",
       "\n",
       "                                            keywords  trailer_views  \\\n",
       "0                 atomic bomb-spoof-james bond spoof   8.209681e+06   \n",
       "1                                                NaN   1.845607e+03   \n",
       "2  borg-enterprise-e-cyborg-montana-resistance-in...   7.870973e+06   \n",
       "3  blackmail-strip club-striptease-police-satire-...   5.517640e+06   \n",
       "4              conspiracy theory-aftercreditsstinger   7.088792e+05   \n",
       "\n",
       "   trailer_likes  year_released  \\\n",
       "0   4.584299e+06           1996   \n",
       "1   2.645379e+03           1997   \n",
       "2   4.965223e+06           1996   \n",
       "3   3.541018e+06           1996   \n",
       "4   1.223100e+06           1996   \n",
       "\n",
       "                                              actors  \n",
       "0  ['Leslie Nielsen', 'Nicollette Sheridan', 'Cha...  \n",
       "1                                                 []  \n",
       "2  ['Patrick Stewart', 'Jonathan Frakes', 'Brent ...  \n",
       "3  ['Demi Moore', 'Armand Assante', 'Ving Rhames'...  \n",
       "4  ['Tom Arnold', 'Jessica Lundy', 'Bug Hall', 'A...  \n",
       "\n",
       "[5 rows x 28 columns]"
      ]
     },
     "execution_count": 5,
     "metadata": {},
     "output_type": "execute_result"
    }
   ],
   "source": [
    "df.head()"
   ]
  },
  {
   "cell_type": "markdown",
   "metadata": {},
   "source": [
    "### Encoding "
   ]
  },
  {
   "cell_type": "code",
   "execution_count": 9,
   "metadata": {},
   "outputs": [
    {
     "data": {
      "text/plain": [
       "Index(['Unnamed: 0', 'primaryTitle', 'originalTitle', 'startYear', 'Genre',\n",
       "       'directors', 'writers', 'averageRating', 'numVotes', 'title', 'genres',\n",
       "       'original_language', 'overview', 'popularity', 'production_companies',\n",
       "       'release_date', 'budget', 'revenue', 'runtime', 'status',\n",
       "       'vote_average', 'vote_count', 'credits', 'keywords', 'trailer_views',\n",
       "       'trailer_likes', 'year_released', 'actors'],\n",
       "      dtype='object')"
      ]
     },
     "execution_count": 9,
     "metadata": {},
     "output_type": "execute_result"
    }
   ],
   "source": [
    "df.columns"
   ]
  },
  {
   "cell_type": "markdown",
   "metadata": {},
   "source": [
    "We need encode\n",
    "- Genre\n",
    "- Directors\n",
    "- Writers\n",
    "- Original_language\n",
    "- Production_companies\n",
    "- Release date\n",
    "- Credits\n",
    "- Keywords\n",
    "- Actors"
   ]
  },
  {
   "cell_type": "code",
   "execution_count": null,
   "metadata": {},
   "outputs": [],
   "source": [
    "# Starting with Genre\n",
    "temp = df['Genre'].unique()\n",
    "for i in temp:\n",
    "    print(i) \n",
    "\n",
    "# Approach 1: Select the first genre as the primary genre and do a one hot encoding on each of the genre we have so far.\n",
    "# Approach 2: Do Approach 1 and add another dependent variable for number of genre \n",
    "# Approach 3: Or We can do a composite genre by selecting the first and second genre information (Benefits will to be retain as much information as possible but there will be way more variable)"
   ]
  },
  {
   "cell_type": "code",
   "execution_count": null,
   "metadata": {},
   "outputs": [],
   "source": [
    "temp = df['directors'].unique()\n",
    "for i in temp:\n",
    "    print(i) \n",
    "\n",
    "# Approach 1: Prepare a 'people of the year dictionary or list' for director, writer, and actor (We can do it by years, or came up with the latest billboard), \n",
    "#             we will just be doing binary encoding to document whether or not we can find a person on the billboard (1 for yes, 0 for no), maybe we need to add the ranking information, \n",
    "#             average revenue assoicated (We probably need to look at box plot or histogram for revenue distribution.)"
   ]
  },
  {
   "cell_type": "code",
   "execution_count": null,
   "metadata": {},
   "outputs": [],
   "source": [
    "temp = df['original_language'].unique()\n",
    "for i in temp:\n",
    "    print(i) \n",
    "\n",
    "# Approach 1: America, Arabic, Europe, India, Japan, Other Category encoding "
   ]
  },
  {
   "cell_type": "code",
   "execution_count": null,
   "metadata": {},
   "outputs": [],
   "source": [
    "temp = df['production_companies'].unique()\n",
    "for i in temp:\n",
    "    print(i) \n",
    "\n",
    "# Same approach with actor, writer, and director encoding"
   ]
  },
  {
   "cell_type": "code",
   "execution_count": null,
   "metadata": {},
   "outputs": [],
   "source": [
    "temp = df['release_date'].unique()\n",
    "for i in temp:\n",
    "    print(i) \n",
    "\n",
    "# Approach: Which month has the most movie release (Competition wise) (We need a reference page that's credible) (Assumption: The larger the competition, the lower the expected revenue)\n",
    "# Approach: Holiday Movie Or Not\n",
    "# Approach: By Season"
   ]
  },
  {
   "cell_type": "code",
   "execution_count": null,
   "metadata": {},
   "outputs": [],
   "source": [
    "temp = df['keywords'].unique()\n",
    "for i in temp:\n",
    "    print(i) \n",
    "\n",
    "# Step 1: Extract top 100 movies of the year from somewhere (that has keywords in their description)\n",
    "# Step 2: Do word frequency (Loop)\n",
    "# Step 3: Use the top 20-100 words as the benchmark\n",
    "# Step 4: Encode the number of appearance of the words for each movie. "
   ]
  }
 ],
 "metadata": {
  "kernelspec": {
   "display_name": "movie_env",
   "language": "python",
   "name": "python3"
  },
  "language_info": {
   "codemirror_mode": {
    "name": "ipython",
    "version": 3
   },
   "file_extension": ".py",
   "mimetype": "text/x-python",
   "name": "python",
   "nbconvert_exporter": "python",
   "pygments_lexer": "ipython3",
   "version": "3.13.1"
  }
 },
 "nbformat": 4,
 "nbformat_minor": 2
}
