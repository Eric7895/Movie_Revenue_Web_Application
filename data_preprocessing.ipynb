{
 "cells": [
  {
   "cell_type": "markdown",
   "metadata": {},
   "source": [
    "## This file focuses on rest of the raw data.\n",
    " - Including - final_dataset.csv, IMDB-Movie-Data.csv, Movie_data.csv, movies.csv"
   ]
  },
  {
   "cell_type": "code",
   "execution_count": 2,
   "metadata": {},
   "outputs": [],
   "source": [
    "import pandas as pd\n",
    "import numpy as np"
   ]
  },
  {
   "cell_type": "code",
   "execution_count": null,
   "metadata": {},
   "outputs": [],
   "source": [
    "path1 = 'raw data/final_dataset.csv'\n",
    "path2 = 'raw data/IMDB-Movie-Data.csv'\n",
    "path3 = 'raw data/Movie_data.csv'\n",
    "path4 = 'raw data/movies.csv'"
   ]
  },
  {
   "cell_type": "code",
   "execution_count": null,
   "metadata": {},
   "outputs": [],
   "source": [
    "# Helper functions\n",
    "def edit_distance(str1, str2):\n",
    "    m, n = len(str1), len(str2)\n",
    "    \n",
    "    # Initialize a 2D DP table\n",
    "    dp = [[0] * (n + 1) for _ in range(m + 1)]\n",
    "    \n",
    "    # Fill the DP table\n",
    "    for i in range(m + 1):\n",
    "        for j in range(n + 1):\n",
    "            if i == 0:\n",
    "                dp[i][j] = j  # If str1 is empty, insert all characters of str2\n",
    "            elif j == 0:\n",
    "                dp[i][j] = i  # If str2 is empty, remove all characters of str1\n",
    "            elif str1[i - 1] == str2[j - 1]:\n",
    "                dp[i][j] = dp[i - 1][j - 1]  # Characters match, no cost\n",
    "            else:\n",
    "                dp[i][j] = 1 + min(dp[i - 1][j],    # Remove\n",
    "                                   dp[i][j - 1],    # Insert\n",
    "                                   dp[i - 1][j - 1])  # Replace\n",
    "\n",
    "    return dp[m][n]\n",
    "\n",
    "def detect_outliers_iqr(data):\n",
    "    \"\"\"\n",
    "    Detects outliers in a list or numpy array using the IQR method.\n",
    "\n",
    "    Args:\n",
    "      data: A list or numpy array of numerical data.\n",
    "\n",
    "    Returns:\n",
    "      A list of outlier values.\n",
    "    \"\"\"\n",
    "    if not isinstance(data, (list, np.ndarray)):\n",
    "        raise TypeError(\"Input data must be a list or numpy array.\")\n",
    "    if len(data) == 0:\n",
    "        return []\n",
    "\n",
    "    data = np.array(data)\n",
    "    q1 = np.percentile(data, 25)\n",
    "    q3 = np.percentile(data, 75)\n",
    "    iqr = q3 - q1\n",
    "    lower_bound = q1 - 1.5 * iqr\n",
    "    upper_bound = q3 + 1.5 * iqr\n",
    "    outliers = data[(data < lower_bound) | (data > upper_bound)]\n",
    "    return list(outliers)\n",
    "\n",
    "def initial_inspection(file):\n",
    "    df = pd.read_csv(file)\n",
    "    print(f'Column attributes: {df.columns}')\n",
    "    print(f'-------------------------------------------------------------------------------------------------------------------------------------------------------')\n",
    "    print(f'DF shape: {df.shape}')\n",
    "    print(f'-------------------------------------------------------------------------------------------------------------------------------------------------------')\n",
    "    print(df.head())\n",
    "    return df"
   ]
  },
  {
   "cell_type": "markdown",
   "metadata": {},
   "source": [
    "### Initial Import"
   ]
  },
  {
   "cell_type": "markdown",
   "metadata": {},
   "source": [
    "#### final_dataset.csv"
   ]
  },
  {
   "cell_type": "markdown",
   "metadata": {},
   "source": [
    "This dataset has important attributes like actors name, gross income, and budget information. An potential problem with this data set is that it didn't come with a date."
   ]
  },
  {
   "cell_type": "code",
   "execution_count": 12,
   "metadata": {},
   "outputs": [
    {
     "name": "stdout",
     "output_type": "stream",
     "text": [
      "Column attributes: Index(['name', 'genre', 'score', 'director', 'actor_2_name', 'actor_1_name',\n",
      "       'gross', 'budget'],\n",
      "      dtype='object')\n",
      "-------------------------------------------------------------------------------------------------------------------------------------------------------\n",
      "DF shape: (7118, 8)\n",
      "-------------------------------------------------------------------------------------------------------------------------------------------------------\n",
      "                                             name      genre  score  \\\n",
      "0                                     The Shining      Drama    8.4   \n",
      "1                                 The Blue Lagoon  Adventure    5.8   \n",
      "2  Star Wars: Episode V - The Empire Strikes Back     Action    8.7   \n",
      "3                                       Airplane!     Comedy    7.7   \n",
      "4                                      Caddyshack     Comedy    7.3   \n",
      "\n",
      "          director        actor_2_name      actor_1_name        gross  \\\n",
      "0  Stanley Kubrick      Shelley Duvall  Scatman Crothers   46998772.0   \n",
      "1   Randal Kleiser  Christopher Atkins    Brooke Shields   58853106.0   \n",
      "2   Irvin Kershner         Kenny Baker     Harrison Ford  538375067.0   \n",
      "3     Jim Abrahams       Lloyd Bridges      Peter Graves   83453539.0   \n",
      "4     Harold Ramis  Rodney Dangerfield       Bill Murray   39846344.0   \n",
      "\n",
      "       budget  \n",
      "0  19000000.0  \n",
      "1   4500000.0  \n",
      "2  18000000.0  \n",
      "3   3500000.0  \n",
      "4   6000000.0  \n"
     ]
    }
   ],
   "source": [
    "raw1 = initial_inspection(path1)"
   ]
  },
  {
   "cell_type": "markdown",
   "metadata": {},
   "source": [
    "#### IMDB-Movie-Data.csv"
   ]
  },
  {
   "cell_type": "markdown",
   "metadata": {},
   "source": [
    "This data file also have some interesting variable such as movie description, full actor list, and movie runtime. But there's a lot of fact checking that we have to do during the merge. "
   ]
  },
  {
   "cell_type": "code",
   "execution_count": 13,
   "metadata": {},
   "outputs": [
    {
     "name": "stdout",
     "output_type": "stream",
     "text": [
      "Column attributes: Index(['Rank', 'Title', 'Genre', 'Description', 'Director', 'Actors', 'Year',\n",
      "       'Runtime (Minutes)', 'Rating', 'Votes', 'Revenue (Millions)',\n",
      "       'Metascore'],\n",
      "      dtype='object')\n",
      "-------------------------------------------------------------------------------------------------------------------------------------------------------\n",
      "DF shape: (1000, 12)\n",
      "-------------------------------------------------------------------------------------------------------------------------------------------------------\n",
      "   Rank                    Title                     Genre  \\\n",
      "0     1  Guardians of the Galaxy   Action,Adventure,Sci-Fi   \n",
      "1     2               Prometheus  Adventure,Mystery,Sci-Fi   \n",
      "2     3                    Split           Horror,Thriller   \n",
      "3     4                     Sing   Animation,Comedy,Family   \n",
      "4     5            Suicide Squad  Action,Adventure,Fantasy   \n",
      "\n",
      "                                         Description              Director  \\\n",
      "0  A group of intergalactic criminals are forced ...            James Gunn   \n",
      "1  Following clues to the origin of mankind, a te...          Ridley Scott   \n",
      "2  Three girls are kidnapped by a man with a diag...    M. Night Shyamalan   \n",
      "3  In a city of humanoid animals, a hustling thea...  Christophe Lourdelet   \n",
      "4  A secret government agency recruits some of th...            David Ayer   \n",
      "\n",
      "                                              Actors  Year  Runtime (Minutes)  \\\n",
      "0  Chris Pratt, Vin Diesel, Bradley Cooper, Zoe S...  2014                121   \n",
      "1  Noomi Rapace, Logan Marshall-Green, Michael Fa...  2012                124   \n",
      "2  James McAvoy, Anya Taylor-Joy, Haley Lu Richar...  2016                117   \n",
      "3  Matthew McConaughey,Reese Witherspoon, Seth Ma...  2016                108   \n",
      "4  Will Smith, Jared Leto, Margot Robbie, Viola D...  2016                123   \n",
      "\n",
      "   Rating   Votes  Revenue (Millions)  Metascore  \n",
      "0     8.1  757074              333.13       76.0  \n",
      "1     7.0  485820              126.46       65.0  \n",
      "2     7.3  157606              138.12       62.0  \n",
      "3     7.2   60545              270.32       59.0  \n",
      "4     6.2  393727              325.02       40.0  \n"
     ]
    }
   ],
   "source": [
    "raw2 = initial_inspection(path2)"
   ]
  },
  {
   "cell_type": "markdown",
   "metadata": {},
   "source": [
    "#### Movie_data.csv "
   ]
  },
  {
   "cell_type": "code",
   "execution_count": null,
   "metadata": {},
   "outputs": [
    {
     "name": "stdout",
     "output_type": "stream",
     "text": [
      "Column attributes: Index(['id', 'title', 'genres', 'original_language', 'overview', 'popularity',\n",
      "       'production_companies', 'release_date', 'budget', 'revenue', 'runtime',\n",
      "       'status', 'tagline', 'vote_average', 'vote_count', 'credits',\n",
      "       'keywords', 'poster_path', 'backdrop_path', 'recommendations',\n",
      "       'trailer_views', 'trailer_likes'],\n",
      "      dtype='object')\n",
      "-------------------------------------------------------------------------------------------------------------------------------------------------------\n",
      "DF shape: (17034, 22)\n",
      "-------------------------------------------------------------------------------------------------------------------------------------------------------\n",
      "       id                              title  \\\n",
      "0  615656                  Meg 2: The Trench   \n",
      "1  758323                The Pope's Exorcist   \n",
      "2  667538   Transformers: Rise of the Beasts   \n",
      "3  640146  Ant-Man and the Wasp: Quantumania   \n",
      "4  677179                          Creed III   \n",
      "\n",
      "                             genres original_language  \\\n",
      "0     Action-Science Fiction-Horror                en   \n",
      "1           Horror-Mystery-Thriller                en   \n",
      "2  Action-Adventure-Science Fiction                en   \n",
      "3  Action-Adventure-Science Fiction                en   \n",
      "4                      Drama-Action                en   \n",
      "\n",
      "                                            overview  popularity  \\\n",
      "0  An exploratory dive into the deepest depths of...    8763.998   \n",
      "1  Father Gabriele Amorth Chief Exorcist of the V...    5953.227   \n",
      "2  When a new threat capable of destroying the en...    5409.104   \n",
      "3  Super-Hero partners Scott Lang and Hope van Dy...    4425.387   \n",
      "4  After dominating the boxing world Adonis Creed...    3994.342   \n",
      "\n",
      "                                production_companies release_date  \\\n",
      "0  Apelles Entertainment-Warner Bros. Pictures-di...   2023-08-02   \n",
      "1  Screen Gems-2.0 Entertainment-Jesus & Mary-Wor...   2023-04-05   \n",
      "2  Skydance-Paramount-di Bonaventura Pictures-Bay...   2023-06-06   \n",
      "3             Marvel Studios-Kevin Feige Productions   2023-02-15   \n",
      "4  Metro-Goldwyn-Mayer-Proximity Media-Balboa Pro...   2023-03-01   \n",
      "\n",
      "        budget     revenue  ...  \\\n",
      "0  129000000.0  35205648.2  ...   \n",
      "1   18000000.0   6567581.6  ...   \n",
      "2  200000000.0  40704546.4  ...   \n",
      "3  200000000.0  47576622.8  ...   \n",
      "4   75000000.0  26900000.0  ...   \n",
      "\n",
      "                                             tagline vote_average vote_count  \\\n",
      "0                                  Back for seconds.        7.079     1365.0   \n",
      "1  Inspired by the actual files of Father Gabriel...        7.433      545.0   \n",
      "2                                     Unite or fall.        7.340     1007.0   \n",
      "3            Witness the beginning of a new dynasty.        6.507     2811.0   \n",
      "4                      You can't run from your past.        7.262     1129.0   \n",
      "\n",
      "                                             credits  \\\n",
      "0  Jason Statham-Wu Jing-Shuya Sophia Cai-Sergio ...   \n",
      "1  Russell Crowe-Daniel Zovatto-Alex Essoe-Franco...   \n",
      "2  Anthony Ramos-Dominique Fishback-Luna Lauren V...   \n",
      "3  Paul Rudd-Evangeline Lilly-Jonathan Majors-Kat...   \n",
      "4  Michael B. Jordan-Tessa Thompson-Jonathan Majo...   \n",
      "\n",
      "                                            keywords  \\\n",
      "0                based on novel or book-sequel-kaiju   \n",
      "1  spain-rome italy-vatican-pope-pig-possession-c...   \n",
      "2  peru-alien-end of the world-based on cartoon-b...   \n",
      "3  hero-ant-sequel-superhero-based on comic-famil...   \n",
      "4  philadelphia pennsylvania-husband wife relatio...   \n",
      "\n",
      "                        poster_path                     backdrop_path  \\\n",
      "0  /4m1Au3YkjqsxF8iwQy0fPYSxE0h.jpg  /qlxy8yo5bcgUw2KAmmojUKp4rHd.jpg   \n",
      "1  /9JBEPLTPSm0d1mbEcLxULjJq9Eh.jpg  /hiHGRbyTcbZoLsYYkO4QiCLYe34.jpg   \n",
      "2  /gPbM0MK8CP8A174rmUwGsADNYKD.jpg  /woJbg7ZqidhpvqFGGMRhWQNoxwa.jpg   \n",
      "3  /qnqGbB22YJ7dSs4o6M7exTpNxPz.jpg  /m8JTwHFwX7I7JY5fPe4SjqejWag.jpg   \n",
      "4  /cvsXj3I9Q2iyyIo95AecSd1tad7.jpg  /5i6SjyDbDWqyun8klUuCxrlFbyw.jpg   \n",
      "\n",
      "                                     recommendations trailer_views  \\\n",
      "0  1006462-298618-569094-1061181-346698-1076487-6...  1.423399e+07   \n",
      "1  713704-296271-502356-1076605-1084225-1008005-9...  1.779581e+06   \n",
      "2  496450-569094-298618-385687-877100-598331-4628...  1.774778e+07   \n",
      "3  823999-676841-868759-734048-267805-965839-1033...  2.948972e+07   \n",
      "4  965839-267805-943822-842942-1035806-823999-107...  6.747268e+06   \n",
      "\n",
      "  trailer_likes  \n",
      "0  1.066109e+07  \n",
      "1  2.007831e+06  \n",
      "2  1.310009e+07  \n",
      "3  1.173070e+07  \n",
      "4  5.175768e+06  \n",
      "\n",
      "[5 rows x 22 columns]\n"
     ]
    }
   ],
   "source": [
    "raw3 = initial_inspection(path3) "
   ]
  },
  {
   "cell_type": "markdown",
   "metadata": {},
   "source": [
    "#### movies.csv"
   ]
  },
  {
   "cell_type": "code",
   "execution_count": 15,
   "metadata": {},
   "outputs": [
    {
     "name": "stdout",
     "output_type": "stream",
     "text": [
      "Column attributes: Index(['name', 'rating', 'genre', 'year', 'released', 'score', 'votes',\n",
      "       'director', 'writer', 'star', 'country', 'budget', 'gross', 'company',\n",
      "       'runtime'],\n",
      "      dtype='object')\n",
      "-------------------------------------------------------------------------------------------------------------------------------------------------------\n",
      "DF shape: (7668, 15)\n",
      "-------------------------------------------------------------------------------------------------------------------------------------------------------\n",
      "                                             name rating      genre  year  \\\n",
      "0                                     The Shining      R      Drama  1980   \n",
      "1                                 The Blue Lagoon      R  Adventure  1980   \n",
      "2  Star Wars: Episode V - The Empire Strikes Back     PG     Action  1980   \n",
      "3                                       Airplane!     PG     Comedy  1980   \n",
      "4                                      Caddyshack      R     Comedy  1980   \n",
      "\n",
      "                        released  score      votes         director  \\\n",
      "0  June 13, 1980 (United States)    8.4   927000.0  Stanley Kubrick   \n",
      "1   July 2, 1980 (United States)    5.8    65000.0   Randal Kleiser   \n",
      "2  June 20, 1980 (United States)    8.7  1200000.0   Irvin Kershner   \n",
      "3   July 2, 1980 (United States)    7.7   221000.0     Jim Abrahams   \n",
      "4  July 25, 1980 (United States)    7.3   108000.0     Harold Ramis   \n",
      "\n",
      "                    writer            star         country      budget  \\\n",
      "0             Stephen King  Jack Nicholson  United Kingdom  19000000.0   \n",
      "1  Henry De Vere Stacpoole  Brooke Shields   United States   4500000.0   \n",
      "2           Leigh Brackett     Mark Hamill   United States  18000000.0   \n",
      "3             Jim Abrahams     Robert Hays   United States   3500000.0   \n",
      "4       Brian Doyle-Murray     Chevy Chase   United States   6000000.0   \n",
      "\n",
      "         gross             company  runtime  \n",
      "0   46998772.0        Warner Bros.    146.0  \n",
      "1   58853106.0   Columbia Pictures    104.0  \n",
      "2  538375067.0           Lucasfilm    124.0  \n",
      "3   83453539.0  Paramount Pictures     88.0  \n",
      "4   39846344.0      Orion Pictures     98.0  \n"
     ]
    }
   ],
   "source": [
    "raw4 = initial_inspection(path4)"
   ]
  },
  {
   "cell_type": "markdown",
   "metadata": {},
   "source": [
    "### Fact checking"
   ]
  },
  {
   "cell_type": "markdown",
   "metadata": {},
   "source": [
    "We will be checking if the important variable matches (if not, then at least one of the merged source is not reliable)"
   ]
  },
  {
   "cell_type": "code",
   "execution_count": 41,
   "metadata": {},
   "outputs": [
    {
     "data": {
      "text/plain": [
       "(573, 20)"
      ]
     },
     "execution_count": 41,
     "metadata": {},
     "output_type": "execute_result"
    }
   ],
   "source": [
    "# Let's start with raw1 and raw2 first\n",
    "movie_stg0 = raw1.merge(raw2, left_on=['name', 'director'], right_on=['Title', 'Director'])\n",
    "movie_stg0.shape"
   ]
  },
  {
   "cell_type": "markdown",
   "metadata": {},
   "source": [
    "Movies seem to match after the inital merged using a pair of composite key, but there's only a few hundred of matched movies. "
   ]
  },
  {
   "cell_type": "code",
   "execution_count": 42,
   "metadata": {},
   "outputs": [
    {
     "data": {
      "text/plain": [
       "name                   0\n",
       "genre                  0\n",
       "score                  0\n",
       "director               0\n",
       "actor_2_name           0\n",
       "actor_1_name           0\n",
       "gross                  0\n",
       "budget                 0\n",
       "Rank                   0\n",
       "Title                  0\n",
       "Genre                  0\n",
       "Description            0\n",
       "Director               0\n",
       "Actors                 0\n",
       "Year                   0\n",
       "Runtime (Minutes)      0\n",
       "Rating                 0\n",
       "Votes                  0\n",
       "Revenue (Millions)     7\n",
       "Metascore             22\n",
       "dtype: int64"
      ]
     },
     "execution_count": 42,
     "metadata": {},
     "output_type": "execute_result"
    }
   ],
   "source": [
    "movie_stg0.isna().sum()"
   ]
  },
  {
   "cell_type": "code",
   "execution_count": 53,
   "metadata": {},
   "outputs": [],
   "source": [
    "# removing unrelevant/redundent attributes\n",
    "movie_stg1 = movie_stg0.drop(['name', 'genre', 'score', 'director', 'actor_2_name', 'actor_1_name', 'Rank'], axis=1)"
   ]
  },
  {
   "cell_type": "code",
   "execution_count": 66,
   "metadata": {},
   "outputs": [],
   "source": [
    "# Let's continue with raw3\n",
    "movie_stg1.rename(columns={'budget': 'Budget'}, inplace=True)\n",
    "\n",
    "movie_stg2 = movie_stg1.join(raw3.set_index('title'), on='Title')"
   ]
  },
  {
   "cell_type": "code",
   "execution_count": 68,
   "metadata": {},
   "outputs": [
    {
     "data": {
      "text/plain": [
       "(613, 34)"
      ]
     },
     "execution_count": 68,
     "metadata": {},
     "output_type": "execute_result"
    }
   ],
   "source": [
    "movie_stg2.shape"
   ]
  },
  {
   "cell_type": "code",
   "execution_count": 67,
   "metadata": {},
   "outputs": [
    {
     "data": {
      "text/plain": [
       "gross                    0\n",
       "Budget                   0\n",
       "Title                    0\n",
       "Genre                    0\n",
       "Description              0\n",
       "Director                 0\n",
       "Actors                   0\n",
       "Year                     0\n",
       "Runtime (Minutes)        0\n",
       "Rating                   0\n",
       "Votes                    0\n",
       "Revenue (Millions)       7\n",
       "Metascore               24\n",
       "id                       6\n",
       "genres                   6\n",
       "original_language        6\n",
       "overview                 6\n",
       "popularity               6\n",
       "production_companies     8\n",
       "release_date             6\n",
       "budget                   6\n",
       "revenue                  6\n",
       "runtime                  6\n",
       "status                   6\n",
       "tagline                 40\n",
       "vote_average             6\n",
       "vote_count               6\n",
       "credits                  8\n",
       "keywords                10\n",
       "poster_path              6\n",
       "backdrop_path            8\n",
       "recommendations         16\n",
       "trailer_views            6\n",
       "trailer_likes            6\n",
       "dtype: int64"
      ]
     },
     "execution_count": 67,
     "metadata": {},
     "output_type": "execute_result"
    }
   ],
   "source": [
    "movie_stg2.isna().sum()"
   ]
  },
  {
   "cell_type": "code",
   "execution_count": 70,
   "metadata": {},
   "outputs": [
    {
     "data": {
      "text/plain": [
       "Index(['gross', 'Budget', 'Title', 'Genre', 'Description', 'Director',\n",
       "       'Actors', 'Year', 'Runtime (Minutes)', 'Rating', 'Votes',\n",
       "       'Revenue (Millions)', 'Metascore', 'id', 'genres', 'original_language',\n",
       "       'overview', 'popularity', 'production_companies', 'release_date',\n",
       "       'budget', 'revenue', 'runtime', 'status', 'tagline', 'vote_average',\n",
       "       'vote_count', 'credits', 'keywords', 'poster_path', 'backdrop_path',\n",
       "       'recommendations', 'trailer_views', 'trailer_likes'],\n",
       "      dtype='object')"
      ]
     },
     "execution_count": 70,
     "metadata": {},
     "output_type": "execute_result"
    }
   ],
   "source": [
    "movie_stg2.columns"
   ]
  },
  {
   "cell_type": "code",
   "execution_count": 89,
   "metadata": {},
   "outputs": [
    {
     "data": {
      "text/html": [
       "<div>\n",
       "<style scoped>\n",
       "    .dataframe tbody tr th:only-of-type {\n",
       "        vertical-align: middle;\n",
       "    }\n",
       "\n",
       "    .dataframe tbody tr th {\n",
       "        vertical-align: top;\n",
       "    }\n",
       "\n",
       "    .dataframe thead th {\n",
       "        text-align: right;\n",
       "    }\n",
       "</style>\n",
       "<table border=\"1\" class=\"dataframe\">\n",
       "  <thead>\n",
       "    <tr style=\"text-align: right;\">\n",
       "      <th></th>\n",
       "      <th>gross</th>\n",
       "      <th>Budget</th>\n",
       "      <th>Title</th>\n",
       "      <th>Genre</th>\n",
       "      <th>Description</th>\n",
       "      <th>Director</th>\n",
       "      <th>Actors</th>\n",
       "      <th>Year</th>\n",
       "      <th>Runtime (Minutes)</th>\n",
       "      <th>Rating</th>\n",
       "      <th>...</th>\n",
       "      <th>tagline</th>\n",
       "      <th>vote_average</th>\n",
       "      <th>vote_count</th>\n",
       "      <th>credits</th>\n",
       "      <th>keywords</th>\n",
       "      <th>poster_path</th>\n",
       "      <th>backdrop_path</th>\n",
       "      <th>recommendations</th>\n",
       "      <th>trailer_views</th>\n",
       "      <th>trailer_likes</th>\n",
       "    </tr>\n",
       "  </thead>\n",
       "  <tbody>\n",
       "    <tr>\n",
       "      <th>0</th>\n",
       "      <td>291465373.0</td>\n",
       "      <td>90000000.0</td>\n",
       "      <td>The Departed</td>\n",
       "      <td>Crime,Drama,Thriller</td>\n",
       "      <td>An undercover cop and a mole in the police att...</td>\n",
       "      <td>Martin Scorsese</td>\n",
       "      <td>Leonardo DiCaprio, Matt Damon, Jack Nicholson,...</td>\n",
       "      <td>2006</td>\n",
       "      <td>151</td>\n",
       "      <td>8.5</td>\n",
       "      <td>...</td>\n",
       "      <td>Lies. Betrayal. Sacrifice. How far will you ta...</td>\n",
       "      <td>8.164</td>\n",
       "      <td>13185.0</td>\n",
       "      <td>Jack Nicholson-Leonardo DiCaprio-Matt Damon-Ma...</td>\n",
       "      <td>undercover-boston massachusetts-irish-american...</td>\n",
       "      <td>/nT97ifVT2J1yMQmeq20Qblg61T.jpg</td>\n",
       "      <td>/6WRrGYalXXveItfpnipYdayFkQB.jpg</td>\n",
       "      <td>11324-769-1124-16869-807-106646-98-500-857-640...</td>\n",
       "      <td>1.811332e+07</td>\n",
       "      <td>9.019804e+06</td>\n",
       "    </tr>\n",
       "    <tr>\n",
       "      <th>1</th>\n",
       "      <td>158964610.0</td>\n",
       "      <td>85000000.0</td>\n",
       "      <td>The Fast and the Furious: Tokyo Drift</td>\n",
       "      <td>Action,Crime,Thriller</td>\n",
       "      <td>A teenager becomes a major competitor in the w...</td>\n",
       "      <td>Justin Lin</td>\n",
       "      <td>Lucas Black, Zachery Ty Bryan, Shad Moss, Dami...</td>\n",
       "      <td>2006</td>\n",
       "      <td>104</td>\n",
       "      <td>6.0</td>\n",
       "      <td>...</td>\n",
       "      <td>On the streets of Tokyo, speed needs no transl...</td>\n",
       "      <td>6.400</td>\n",
       "      <td>5782.0</td>\n",
       "      <td>Lucas Black-Nathalie Kelley-Sung Kang-Shad Mos...</td>\n",
       "      <td>car race-car journey-car mechanic-car garage-a...</td>\n",
       "      <td>/cm2ffqb3XovzA5ZSzyN3jnn8qv0.jpg</td>\n",
       "      <td>/dMARcKLrv0T7kVJ4iQR3vqTTdtT.jpg</td>\n",
       "      <td>584-13804-9799-51497-82992-168259-337339-98833...</td>\n",
       "      <td>5.714873e+06</td>\n",
       "      <td>2.590683e+06</td>\n",
       "    </tr>\n",
       "    <tr>\n",
       "      <th>2</th>\n",
       "      <td>109676311.0</td>\n",
       "      <td>40000000.0</td>\n",
       "      <td>The Prestige</td>\n",
       "      <td>Drama,Mystery,Sci-Fi</td>\n",
       "      <td>Two stage magicians engage in competitive one-...</td>\n",
       "      <td>Christopher Nolan</td>\n",
       "      <td>Christian Bale, Hugh Jackman, Scarlett Johanss...</td>\n",
       "      <td>2006</td>\n",
       "      <td>130</td>\n",
       "      <td>8.5</td>\n",
       "      <td>...</td>\n",
       "      <td>Are You Watching Closely?</td>\n",
       "      <td>8.203</td>\n",
       "      <td>13936.0</td>\n",
       "      <td>Hugh Jackman-Christian Bale-Michael Caine-Scar...</td>\n",
       "      <td>competition-obsession-magic-diary-dying and de...</td>\n",
       "      <td>/bdN3gXuIZYaJP7ftKK2sU0nPtEA.jpg</td>\n",
       "      <td>/mfJepkInUbiZ0mFXFhDNz8ko6Zr.jpg</td>\n",
       "      <td>77-11324-1422-807-27205-272-155-16869-550-629-...</td>\n",
       "      <td>-2.292396e+06</td>\n",
       "      <td>4.893181e+06</td>\n",
       "    </tr>\n",
       "    <tr>\n",
       "      <th>3</th>\n",
       "      <td>461991867.0</td>\n",
       "      <td>120000000.0</td>\n",
       "      <td>Cars</td>\n",
       "      <td>Animation,Adventure,Comedy</td>\n",
       "      <td>A hot-shot race-car named Lightning McQueen ge...</td>\n",
       "      <td>John Lasseter</td>\n",
       "      <td>Owen Wilson, Bonnie Hunt, Paul Newman, Larry t...</td>\n",
       "      <td>2006</td>\n",
       "      <td>117</td>\n",
       "      <td>7.1</td>\n",
       "      <td>...</td>\n",
       "      <td>Ahhh... it's got that new movie smell.</td>\n",
       "      <td>6.900</td>\n",
       "      <td>12346.0</td>\n",
       "      <td>Owen Wilson-Larry the Cable Guy-Bonnie Hunt-Pa...</td>\n",
       "      <td>car race-success-route 66-porsche-retirement-f...</td>\n",
       "      <td>/u4G8EkiIBZYx0wEg2xDlXZigTOZ.jpg</td>\n",
       "      <td>/sd4xN5xi8tKRPrJOWwNiZEile7f.jpg</td>\n",
       "      <td>49013-12-863-585-9806-862-10193-2062-953-14160...</td>\n",
       "      <td>2.051532e+07</td>\n",
       "      <td>1.145355e+07</td>\n",
       "    </tr>\n",
       "    <tr>\n",
       "      <th>4</th>\n",
       "      <td>456068181.0</td>\n",
       "      <td>65000000.0</td>\n",
       "      <td>300</td>\n",
       "      <td>Action,Fantasy,War</td>\n",
       "      <td>King Leonidas of Sparta and a force of 300 men...</td>\n",
       "      <td>Zack Snyder</td>\n",
       "      <td>Gerard Butler, Lena Headey, David Wenham, Domi...</td>\n",
       "      <td>2006</td>\n",
       "      <td>117</td>\n",
       "      <td>7.7</td>\n",
       "      <td>...</td>\n",
       "      <td>Spartans, prepare for glory!</td>\n",
       "      <td>7.167</td>\n",
       "      <td>12330.0</td>\n",
       "      <td>Gerard Butler-Lena Headey-Dominic West-David W...</td>\n",
       "      <td>evisceration-javelin-shield-army-epic-based on...</td>\n",
       "      <td>/9W49fy5G7v9Ed3CXtvMi41YqZtt.jpg</td>\n",
       "      <td>/eGhjeUbzttA3E4flxdAm8gHz4h4.jpg</td>\n",
       "      <td>53182-14161-98-6479-10528-36557-27578-604-607-...</td>\n",
       "      <td>1.832150e+06</td>\n",
       "      <td>1.236473e+07</td>\n",
       "    </tr>\n",
       "  </tbody>\n",
       "</table>\n",
       "<p>5 rows × 34 columns</p>\n",
       "</div>"
      ],
      "text/plain": [
       "         gross       Budget                                  Title  \\\n",
       "0  291465373.0   90000000.0                           The Departed   \n",
       "1  158964610.0   85000000.0  The Fast and the Furious: Tokyo Drift   \n",
       "2  109676311.0   40000000.0                           The Prestige   \n",
       "3  461991867.0  120000000.0                                   Cars   \n",
       "4  456068181.0   65000000.0                                    300   \n",
       "\n",
       "                        Genre  \\\n",
       "0        Crime,Drama,Thriller   \n",
       "1       Action,Crime,Thriller   \n",
       "2        Drama,Mystery,Sci-Fi   \n",
       "3  Animation,Adventure,Comedy   \n",
       "4          Action,Fantasy,War   \n",
       "\n",
       "                                         Description           Director  \\\n",
       "0  An undercover cop and a mole in the police att...    Martin Scorsese   \n",
       "1  A teenager becomes a major competitor in the w...         Justin Lin   \n",
       "2  Two stage magicians engage in competitive one-...  Christopher Nolan   \n",
       "3  A hot-shot race-car named Lightning McQueen ge...      John Lasseter   \n",
       "4  King Leonidas of Sparta and a force of 300 men...        Zack Snyder   \n",
       "\n",
       "                                              Actors  Year  Runtime (Minutes)  \\\n",
       "0  Leonardo DiCaprio, Matt Damon, Jack Nicholson,...  2006                151   \n",
       "1  Lucas Black, Zachery Ty Bryan, Shad Moss, Dami...  2006                104   \n",
       "2  Christian Bale, Hugh Jackman, Scarlett Johanss...  2006                130   \n",
       "3  Owen Wilson, Bonnie Hunt, Paul Newman, Larry t...  2006                117   \n",
       "4  Gerard Butler, Lena Headey, David Wenham, Domi...  2006                117   \n",
       "\n",
       "   Rating  ...                                            tagline  \\\n",
       "0     8.5  ...  Lies. Betrayal. Sacrifice. How far will you ta...   \n",
       "1     6.0  ...  On the streets of Tokyo, speed needs no transl...   \n",
       "2     8.5  ...                          Are You Watching Closely?   \n",
       "3     7.1  ...             Ahhh... it's got that new movie smell.   \n",
       "4     7.7  ...                       Spartans, prepare for glory!   \n",
       "\n",
       "   vote_average  vote_count  \\\n",
       "0         8.164     13185.0   \n",
       "1         6.400      5782.0   \n",
       "2         8.203     13936.0   \n",
       "3         6.900     12346.0   \n",
       "4         7.167     12330.0   \n",
       "\n",
       "                                             credits  \\\n",
       "0  Jack Nicholson-Leonardo DiCaprio-Matt Damon-Ma...   \n",
       "1  Lucas Black-Nathalie Kelley-Sung Kang-Shad Mos...   \n",
       "2  Hugh Jackman-Christian Bale-Michael Caine-Scar...   \n",
       "3  Owen Wilson-Larry the Cable Guy-Bonnie Hunt-Pa...   \n",
       "4  Gerard Butler-Lena Headey-Dominic West-David W...   \n",
       "\n",
       "                                            keywords  \\\n",
       "0  undercover-boston massachusetts-irish-american...   \n",
       "1  car race-car journey-car mechanic-car garage-a...   \n",
       "2  competition-obsession-magic-diary-dying and de...   \n",
       "3  car race-success-route 66-porsche-retirement-f...   \n",
       "4  evisceration-javelin-shield-army-epic-based on...   \n",
       "\n",
       "                        poster_path                     backdrop_path  \\\n",
       "0   /nT97ifVT2J1yMQmeq20Qblg61T.jpg  /6WRrGYalXXveItfpnipYdayFkQB.jpg   \n",
       "1  /cm2ffqb3XovzA5ZSzyN3jnn8qv0.jpg  /dMARcKLrv0T7kVJ4iQR3vqTTdtT.jpg   \n",
       "2  /bdN3gXuIZYaJP7ftKK2sU0nPtEA.jpg  /mfJepkInUbiZ0mFXFhDNz8ko6Zr.jpg   \n",
       "3  /u4G8EkiIBZYx0wEg2xDlXZigTOZ.jpg  /sd4xN5xi8tKRPrJOWwNiZEile7f.jpg   \n",
       "4  /9W49fy5G7v9Ed3CXtvMi41YqZtt.jpg  /eGhjeUbzttA3E4flxdAm8gHz4h4.jpg   \n",
       "\n",
       "                                     recommendations trailer_views  \\\n",
       "0  11324-769-1124-16869-807-106646-98-500-857-640...  1.811332e+07   \n",
       "1  584-13804-9799-51497-82992-168259-337339-98833...  5.714873e+06   \n",
       "2  77-11324-1422-807-27205-272-155-16869-550-629-... -2.292396e+06   \n",
       "3  49013-12-863-585-9806-862-10193-2062-953-14160...  2.051532e+07   \n",
       "4  53182-14161-98-6479-10528-36557-27578-604-607-...  1.832150e+06   \n",
       "\n",
       "  trailer_likes  \n",
       "0  9.019804e+06  \n",
       "1  2.590683e+06  \n",
       "2  4.893181e+06  \n",
       "3  1.145355e+07  \n",
       "4  1.236473e+07  \n",
       "\n",
       "[5 rows x 34 columns]"
      ]
     },
     "execution_count": 89,
     "metadata": {},
     "output_type": "execute_result"
    }
   ],
   "source": [
    "movie_stg2.head()"
   ]
  },
  {
   "cell_type": "code",
   "execution_count": 90,
   "metadata": {},
   "outputs": [
    {
     "name": "stdout",
     "output_type": "stream",
     "text": [
      "Null value at index 29: Skipping this row.\n",
      "Null value at index 337: Skipping this row.\n",
      "Null value at index 533: Skipping this row.\n",
      "Null value at index 575: Skipping this row.\n",
      "Null value at index 576: Skipping this row.\n",
      "Null value at index 598: Skipping this row.\n"
     ]
    }
   ],
   "source": [
    "benchmark_distance = 12.15  # Average edit distance of the first 20 movies\n",
    "distance_list = []\n",
    "\n",
    "for i in range(movie_stg2.shape[0]):\n",
    "    try:\n",
    "        # Get the genres for the current row\n",
    "        genre1 = movie_stg2.iloc[i, 3]\n",
    "        genre2 = movie_stg2.iloc[i, 14]\n",
    "\n",
    "        # Check if either genre is null or NaN\n",
    "        if pd.isnull(genre1) or pd.isnull(genre2):\n",
    "            print(f\"Null value at index {i}: Skipping this row.\")\n",
    "            distance_list.append(None)  # Append None for rows with null values\n",
    "            continue\n",
    "\n",
    "        # Compute the edit distance if both genres are valid\n",
    "        distance = edit_distance(genre1, genre2)\n",
    "        distance_list.append(distance)\n",
    "\n",
    "    except ValueError:\n",
    "        print(f\"ValueError at index {i}: Skipping this row.\")\n",
    "        distance_list.append(None)\n",
    "    except Exception as e:\n",
    "        print(f\"Unexpected error at index {i}: {e}\")\n",
    "        distance_list.append(None)\n"
   ]
  },
  {
   "cell_type": "code",
   "execution_count": 104,
   "metadata": {},
   "outputs": [],
   "source": [
    "distance_list.remove(None)"
   ]
  },
  {
   "cell_type": "code",
   "execution_count": 105,
   "metadata": {},
   "outputs": [
    {
     "data": {
      "text/plain": [
       "607"
      ]
     },
     "execution_count": 105,
     "metadata": {},
     "output_type": "execute_result"
    }
   ],
   "source": [
    "len(distance_list)"
   ]
  },
  {
   "cell_type": "code",
   "execution_count": 106,
   "metadata": {},
   "outputs": [
    {
     "data": {
      "text/plain": [
       "np.float64(12.99835255354201)"
      ]
     },
     "execution_count": 106,
     "metadata": {},
     "output_type": "execute_result"
    }
   ],
   "source": [
    "np.mean(distance_list)"
   ]
  }
 ],
 "metadata": {
  "kernelspec": {
   "display_name": "movie_env",
   "language": "python",
   "name": "python3"
  },
  "language_info": {
   "codemirror_mode": {
    "name": "ipython",
    "version": 3
   },
   "file_extension": ".py",
   "mimetype": "text/x-python",
   "name": "python",
   "nbconvert_exporter": "python",
   "pygments_lexer": "ipython3",
   "version": "3.13.1"
  }
 },
 "nbformat": 4,
 "nbformat_minor": 2
}
