{
 "cells": [
  {
   "cell_type": "markdown",
   "metadata": {},
   "source": [
    "## This file focuses on rest of the raw data.\n",
    " - Including - final_dataset.csv, IMDB-Movie-Data.csv, Movie_data.csv, movies.csv\n",
    " - End result - A csv file named 'many_attributes.csv' that has only 505 records, but around 30 attributes"
   ]
  },
  {
   "cell_type": "code",
   "metadata": {
    "ExecuteTime": {
     "end_time": "2025-02-20T20:47:35.442994Z",
     "start_time": "2025-02-20T20:47:35.140624Z"
    }
   },
   "source": [
    "import pandas as pd\n",
    "import numpy as np"
   ],
   "outputs": [
    {
     "ename": "ModuleNotFoundError",
     "evalue": "No module named 'pandas'",
     "output_type": "error",
     "traceback": [
      "\u001B[0;31m---------------------------------------------------------------------------\u001B[0m",
      "\u001B[0;31mModuleNotFoundError\u001B[0m                       Traceback (most recent call last)",
      "Cell \u001B[0;32mIn[1], line 1\u001B[0m\n\u001B[0;32m----> 1\u001B[0m \u001B[38;5;28;01mimport\u001B[39;00m\u001B[38;5;250m \u001B[39m\u001B[38;5;21;01mpandas\u001B[39;00m\u001B[38;5;250m \u001B[39m\u001B[38;5;28;01mas\u001B[39;00m\u001B[38;5;250m \u001B[39m\u001B[38;5;21;01mpd\u001B[39;00m\n\u001B[1;32m      2\u001B[0m \u001B[38;5;28;01mimport\u001B[39;00m\u001B[38;5;250m \u001B[39m\u001B[38;5;21;01mnumpy\u001B[39;00m\u001B[38;5;250m \u001B[39m\u001B[38;5;28;01mas\u001B[39;00m\u001B[38;5;250m \u001B[39m\u001B[38;5;21;01mnp\u001B[39;00m\n",
      "\u001B[0;31mModuleNotFoundError\u001B[0m: No module named 'pandas'"
     ]
    }
   ],
   "execution_count": 1
  },
  {
   "cell_type": "code",
   "metadata": {
    "jupyter": {
     "is_executing": true
    }
   },
   "source": [
    "path1 = 'raw data/final_dataset.csv'\n",
    "path2 = 'raw data/IMDB-Movie-Data.csv'\n",
    "path3 = 'raw data/Movie_data.csv'\n",
    "path4 = 'raw data/movies.csv'"
   ],
   "outputs": [],
   "execution_count": null
  },
  {
   "cell_type": "code",
   "execution_count": 3,
   "metadata": {},
   "outputs": [],
   "source": [
    "# Helper functions\n",
    "def edit_distance(str1, str2):\n",
    "    m, n = len(str1), len(str2)\n",
    "    \n",
    "    # Initialize a 2D DP table\n",
    "    dp = [[0] * (n + 1) for _ in range(m + 1)]\n",
    "    \n",
    "    # Fill the DP table\n",
    "    for i in range(m + 1):\n",
    "        for j in range(n + 1):\n",
    "            if i == 0:\n",
    "                dp[i][j] = j  # If str1 is empty, insert all characters of str2\n",
    "            elif j == 0:\n",
    "                dp[i][j] = i  # If str2 is empty, remove all characters of str1\n",
    "            elif str1[i - 1] == str2[j - 1]:\n",
    "                dp[i][j] = dp[i - 1][j - 1]  # Characters match, no cost\n",
    "            else:\n",
    "                dp[i][j] = 1 + min(dp[i - 1][j],    # Remove\n",
    "                                   dp[i][j - 1],    # Insert\n",
    "                                   dp[i - 1][j - 1])  # Replace\n",
    "\n",
    "    return dp[m][n]\n",
    "\n",
    "def detect_outliers(distance_list, threshold=2):\n",
    "    \"\"\"\n",
    "    Detects outliers based on a specified threshold (in terms of standard deviations).\n",
    "    \n",
    "    Parameters:\n",
    "    - distance_list: List of tuples (index, distance) where distance can be None.\n",
    "    - threshold: Number of standard deviations to use as the outlier threshold.\n",
    "    \n",
    "    Returns:\n",
    "    - outliers: List of tuples (index, distance) for outliers.\n",
    "    \"\"\"\n",
    "    # Filter out invalid entries (None or incorrectly formatted)\n",
    "    valid_entries = [entry for entry in distance_list if isinstance(entry, tuple) and entry[1] is not None]\n",
    "\n",
    "    if not valid_entries:\n",
    "        print(\"No valid distances to process.\")\n",
    "        return []\n",
    "\n",
    "    # Extract indices and distances\n",
    "    indices, distances = zip(*valid_entries)  # Separate indices and distances\n",
    "\n",
    "    # Calculate mean and standard deviation\n",
    "    mean_distance = np.mean(distances)\n",
    "    std_distance = np.std(distances)\n",
    "\n",
    "    # Define outlier thresholds\n",
    "    lower_bound = mean_distance - threshold * std_distance\n",
    "    upper_bound = mean_distance + threshold * std_distance\n",
    "\n",
    "    # Detect outliers\n",
    "    outliers = [(idx, dist) for idx, dist in valid_entries if dist < lower_bound or dist > upper_bound]\n",
    "\n",
    "    # Print summary\n",
    "    print(f\"Mean Distance: {mean_distance:.2f}\")\n",
    "    print(f\"Standard Deviation: {std_distance:.2f}\")\n",
    "    print(f\"Lower Bound: {lower_bound:.2f}, Upper Bound: {upper_bound:.2f}\")\n",
    "\n",
    "    return outliers\n",
    "\n",
    "\n",
    "\n",
    "def initial_inspection(file):\n",
    "    df = pd.read_csv(file)\n",
    "    print(f'Column attributes: {df.columns}')\n",
    "    print(f'-------------------------------------------------------------------------------------------------------------------------------------------------------')\n",
    "    print(f'DF shape: {df.shape}')\n",
    "    print(f'-------------------------------------------------------------------------------------------------------------------------------------------------------')\n",
    "    print(df.head())\n",
    "    return df"
   ]
  },
  {
   "cell_type": "markdown",
   "metadata": {},
   "source": [
    "### Initial Import"
   ]
  },
  {
   "cell_type": "markdown",
   "metadata": {},
   "source": [
    "#### final_dataset.csv"
   ]
  },
  {
   "cell_type": "markdown",
   "metadata": {},
   "source": [
    "This dataset has important attributes like actors name, gross income, and budget information. An potential problem with this data set is that it didn't come with a date."
   ]
  },
  {
   "cell_type": "code",
   "execution_count": 4,
   "metadata": {},
   "outputs": [
    {
     "name": "stdout",
     "output_type": "stream",
     "text": [
      "Column attributes: Index(['name', 'genre', 'score', 'director', 'actor_2_name', 'actor_1_name',\n",
      "       'gross', 'budget'],\n",
      "      dtype='object')\n",
      "-------------------------------------------------------------------------------------------------------------------------------------------------------\n",
      "DF shape: (7118, 8)\n",
      "-------------------------------------------------------------------------------------------------------------------------------------------------------\n",
      "                                             name      genre  score  \\\n",
      "0                                     The Shining      Drama    8.4   \n",
      "1                                 The Blue Lagoon  Adventure    5.8   \n",
      "2  Star Wars: Episode V - The Empire Strikes Back     Action    8.7   \n",
      "3                                       Airplane!     Comedy    7.7   \n",
      "4                                      Caddyshack     Comedy    7.3   \n",
      "\n",
      "          director        actor_2_name      actor_1_name        gross  \\\n",
      "0  Stanley Kubrick      Shelley Duvall  Scatman Crothers   46998772.0   \n",
      "1   Randal Kleiser  Christopher Atkins    Brooke Shields   58853106.0   \n",
      "2   Irvin Kershner         Kenny Baker     Harrison Ford  538375067.0   \n",
      "3     Jim Abrahams       Lloyd Bridges      Peter Graves   83453539.0   \n",
      "4     Harold Ramis  Rodney Dangerfield       Bill Murray   39846344.0   \n",
      "\n",
      "       budget  \n",
      "0  19000000.0  \n",
      "1   4500000.0  \n",
      "2  18000000.0  \n",
      "3   3500000.0  \n",
      "4   6000000.0  \n"
     ]
    }
   ],
   "source": [
    "raw1 = initial_inspection(path1)"
   ]
  },
  {
   "cell_type": "markdown",
   "metadata": {},
   "source": [
    "#### IMDB-Movie-Data.csv"
   ]
  },
  {
   "cell_type": "markdown",
   "metadata": {},
   "source": [
    "This data file also have some interesting variable such as movie description, full actor list, and movie runtime. But there's a lot of fact checking that we have to do during the merge. "
   ]
  },
  {
   "cell_type": "code",
   "execution_count": 5,
   "metadata": {},
   "outputs": [
    {
     "name": "stdout",
     "output_type": "stream",
     "text": [
      "Column attributes: Index(['Rank', 'Title', 'Genre', 'Description', 'Director', 'Actors', 'Year',\n",
      "       'Runtime (Minutes)', 'Rating', 'Votes', 'Revenue (Millions)',\n",
      "       'Metascore'],\n",
      "      dtype='object')\n",
      "-------------------------------------------------------------------------------------------------------------------------------------------------------\n",
      "DF shape: (1000, 12)\n",
      "-------------------------------------------------------------------------------------------------------------------------------------------------------\n",
      "   Rank                    Title                     Genre  \\\n",
      "0     1  Guardians of the Galaxy   Action,Adventure,Sci-Fi   \n",
      "1     2               Prometheus  Adventure,Mystery,Sci-Fi   \n",
      "2     3                    Split           Horror,Thriller   \n",
      "3     4                     Sing   Animation,Comedy,Family   \n",
      "4     5            Suicide Squad  Action,Adventure,Fantasy   \n",
      "\n",
      "                                         Description              Director  \\\n",
      "0  A group of intergalactic criminals are forced ...            James Gunn   \n",
      "1  Following clues to the origin of mankind, a te...          Ridley Scott   \n",
      "2  Three girls are kidnapped by a man with a diag...    M. Night Shyamalan   \n",
      "3  In a city of humanoid animals, a hustling thea...  Christophe Lourdelet   \n",
      "4  A secret government agency recruits some of th...            David Ayer   \n",
      "\n",
      "                                              Actors  Year  Runtime (Minutes)  \\\n",
      "0  Chris Pratt, Vin Diesel, Bradley Cooper, Zoe S...  2014                121   \n",
      "1  Noomi Rapace, Logan Marshall-Green, Michael Fa...  2012                124   \n",
      "2  James McAvoy, Anya Taylor-Joy, Haley Lu Richar...  2016                117   \n",
      "3  Matthew McConaughey,Reese Witherspoon, Seth Ma...  2016                108   \n",
      "4  Will Smith, Jared Leto, Margot Robbie, Viola D...  2016                123   \n",
      "\n",
      "   Rating   Votes  Revenue (Millions)  Metascore  \n",
      "0     8.1  757074              333.13       76.0  \n",
      "1     7.0  485820              126.46       65.0  \n",
      "2     7.3  157606              138.12       62.0  \n",
      "3     7.2   60545              270.32       59.0  \n",
      "4     6.2  393727              325.02       40.0  \n"
     ]
    }
   ],
   "source": [
    "raw2 = initial_inspection(path2)"
   ]
  },
  {
   "cell_type": "markdown",
   "metadata": {},
   "source": [
    "#### Movie_data.csv "
   ]
  },
  {
   "cell_type": "code",
   "execution_count": 6,
   "metadata": {},
   "outputs": [
    {
     "name": "stdout",
     "output_type": "stream",
     "text": [
      "Column attributes: Index(['id', 'title', 'genres', 'original_language', 'overview', 'popularity',\n",
      "       'production_companies', 'release_date', 'budget', 'revenue', 'runtime',\n",
      "       'status', 'tagline', 'vote_average', 'vote_count', 'credits',\n",
      "       'keywords', 'poster_path', 'backdrop_path', 'recommendations',\n",
      "       'trailer_views', 'trailer_likes'],\n",
      "      dtype='object')\n",
      "-------------------------------------------------------------------------------------------------------------------------------------------------------\n",
      "DF shape: (17034, 22)\n",
      "-------------------------------------------------------------------------------------------------------------------------------------------------------\n",
      "       id                              title  \\\n",
      "0  615656                  Meg 2: The Trench   \n",
      "1  758323                The Pope's Exorcist   \n",
      "2  667538   Transformers: Rise of the Beasts   \n",
      "3  640146  Ant-Man and the Wasp: Quantumania   \n",
      "4  677179                          Creed III   \n",
      "\n",
      "                             genres original_language  \\\n",
      "0     Action-Science Fiction-Horror                en   \n",
      "1           Horror-Mystery-Thriller                en   \n",
      "2  Action-Adventure-Science Fiction                en   \n",
      "3  Action-Adventure-Science Fiction                en   \n",
      "4                      Drama-Action                en   \n",
      "\n",
      "                                            overview  popularity  \\\n",
      "0  An exploratory dive into the deepest depths of...    8763.998   \n",
      "1  Father Gabriele Amorth Chief Exorcist of the V...    5953.227   \n",
      "2  When a new threat capable of destroying the en...    5409.104   \n",
      "3  Super-Hero partners Scott Lang and Hope van Dy...    4425.387   \n",
      "4  After dominating the boxing world Adonis Creed...    3994.342   \n",
      "\n",
      "                                production_companies release_date  \\\n",
      "0  Apelles Entertainment-Warner Bros. Pictures-di...   2023-08-02   \n",
      "1  Screen Gems-2.0 Entertainment-Jesus & Mary-Wor...   2023-04-05   \n",
      "2  Skydance-Paramount-di Bonaventura Pictures-Bay...   2023-06-06   \n",
      "3             Marvel Studios-Kevin Feige Productions   2023-02-15   \n",
      "4  Metro-Goldwyn-Mayer-Proximity Media-Balboa Pro...   2023-03-01   \n",
      "\n",
      "        budget     revenue  ...  \\\n",
      "0  129000000.0  35205648.2  ...   \n",
      "1   18000000.0   6567581.6  ...   \n",
      "2  200000000.0  40704546.4  ...   \n",
      "3  200000000.0  47576622.8  ...   \n",
      "4   75000000.0  26900000.0  ...   \n",
      "\n",
      "                                             tagline vote_average vote_count  \\\n",
      "0                                  Back for seconds.        7.079     1365.0   \n",
      "1  Inspired by the actual files of Father Gabriel...        7.433      545.0   \n",
      "2                                     Unite or fall.        7.340     1007.0   \n",
      "3            Witness the beginning of a new dynasty.        6.507     2811.0   \n",
      "4                      You can't run from your past.        7.262     1129.0   \n",
      "\n",
      "                                             credits  \\\n",
      "0  Jason Statham-Wu Jing-Shuya Sophia Cai-Sergio ...   \n",
      "1  Russell Crowe-Daniel Zovatto-Alex Essoe-Franco...   \n",
      "2  Anthony Ramos-Dominique Fishback-Luna Lauren V...   \n",
      "3  Paul Rudd-Evangeline Lilly-Jonathan Majors-Kat...   \n",
      "4  Michael B. Jordan-Tessa Thompson-Jonathan Majo...   \n",
      "\n",
      "                                            keywords  \\\n",
      "0                based on novel or book-sequel-kaiju   \n",
      "1  spain-rome italy-vatican-pope-pig-possession-c...   \n",
      "2  peru-alien-end of the world-based on cartoon-b...   \n",
      "3  hero-ant-sequel-superhero-based on comic-famil...   \n",
      "4  philadelphia pennsylvania-husband wife relatio...   \n",
      "\n",
      "                        poster_path                     backdrop_path  \\\n",
      "0  /4m1Au3YkjqsxF8iwQy0fPYSxE0h.jpg  /qlxy8yo5bcgUw2KAmmojUKp4rHd.jpg   \n",
      "1  /9JBEPLTPSm0d1mbEcLxULjJq9Eh.jpg  /hiHGRbyTcbZoLsYYkO4QiCLYe34.jpg   \n",
      "2  /gPbM0MK8CP8A174rmUwGsADNYKD.jpg  /woJbg7ZqidhpvqFGGMRhWQNoxwa.jpg   \n",
      "3  /qnqGbB22YJ7dSs4o6M7exTpNxPz.jpg  /m8JTwHFwX7I7JY5fPe4SjqejWag.jpg   \n",
      "4  /cvsXj3I9Q2iyyIo95AecSd1tad7.jpg  /5i6SjyDbDWqyun8klUuCxrlFbyw.jpg   \n",
      "\n",
      "                                     recommendations trailer_views  \\\n",
      "0  1006462-298618-569094-1061181-346698-1076487-6...  1.423399e+07   \n",
      "1  713704-296271-502356-1076605-1084225-1008005-9...  1.779581e+06   \n",
      "2  496450-569094-298618-385687-877100-598331-4628...  1.774778e+07   \n",
      "3  823999-676841-868759-734048-267805-965839-1033...  2.948972e+07   \n",
      "4  965839-267805-943822-842942-1035806-823999-107...  6.747268e+06   \n",
      "\n",
      "  trailer_likes  \n",
      "0  1.066109e+07  \n",
      "1  2.007831e+06  \n",
      "2  1.310009e+07  \n",
      "3  1.173070e+07  \n",
      "4  5.175768e+06  \n",
      "\n",
      "[5 rows x 22 columns]\n"
     ]
    }
   ],
   "source": [
    "raw3 = initial_inspection(path3) "
   ]
  },
  {
   "cell_type": "markdown",
   "metadata": {},
   "source": [
    "#### movies.csv"
   ]
  },
  {
   "cell_type": "code",
   "execution_count": 7,
   "metadata": {},
   "outputs": [
    {
     "name": "stdout",
     "output_type": "stream",
     "text": [
      "Column attributes: Index(['name', 'rating', 'genre', 'year', 'released', 'score', 'votes',\n",
      "       'director', 'writer', 'star', 'country', 'budget', 'gross', 'company',\n",
      "       'runtime'],\n",
      "      dtype='object')\n",
      "-------------------------------------------------------------------------------------------------------------------------------------------------------\n",
      "DF shape: (7668, 15)\n",
      "-------------------------------------------------------------------------------------------------------------------------------------------------------\n",
      "                                             name rating      genre  year  \\\n",
      "0                                     The Shining      R      Drama  1980   \n",
      "1                                 The Blue Lagoon      R  Adventure  1980   \n",
      "2  Star Wars: Episode V - The Empire Strikes Back     PG     Action  1980   \n",
      "3                                       Airplane!     PG     Comedy  1980   \n",
      "4                                      Caddyshack      R     Comedy  1980   \n",
      "\n",
      "                        released  score      votes         director  \\\n",
      "0  June 13, 1980 (United States)    8.4   927000.0  Stanley Kubrick   \n",
      "1   July 2, 1980 (United States)    5.8    65000.0   Randal Kleiser   \n",
      "2  June 20, 1980 (United States)    8.7  1200000.0   Irvin Kershner   \n",
      "3   July 2, 1980 (United States)    7.7   221000.0     Jim Abrahams   \n",
      "4  July 25, 1980 (United States)    7.3   108000.0     Harold Ramis   \n",
      "\n",
      "                    writer            star         country      budget  \\\n",
      "0             Stephen King  Jack Nicholson  United Kingdom  19000000.0   \n",
      "1  Henry De Vere Stacpoole  Brooke Shields   United States   4500000.0   \n",
      "2           Leigh Brackett     Mark Hamill   United States  18000000.0   \n",
      "3             Jim Abrahams     Robert Hays   United States   3500000.0   \n",
      "4       Brian Doyle-Murray     Chevy Chase   United States   6000000.0   \n",
      "\n",
      "         gross             company  runtime  \n",
      "0   46998772.0        Warner Bros.    146.0  \n",
      "1   58853106.0   Columbia Pictures    104.0  \n",
      "2  538375067.0           Lucasfilm    124.0  \n",
      "3   83453539.0  Paramount Pictures     88.0  \n",
      "4   39846344.0      Orion Pictures     98.0  \n"
     ]
    }
   ],
   "source": [
    "raw4 = initial_inspection(path4)"
   ]
  },
  {
   "cell_type": "markdown",
   "metadata": {},
   "source": [
    "### Fact checking"
   ]
  },
  {
   "cell_type": "markdown",
   "metadata": {},
   "source": [
    "We will be checking if the important variable matches (if not, then at least one of the merged source is not reliable)"
   ]
  },
  {
   "cell_type": "code",
   "execution_count": 8,
   "metadata": {},
   "outputs": [
    {
     "data": {
      "text/plain": [
       "(573, 20)"
      ]
     },
     "execution_count": 8,
     "metadata": {},
     "output_type": "execute_result"
    }
   ],
   "source": [
    "# Let's start with raw1 and raw2 first\n",
    "movie_stg0 = raw1.merge(raw2, left_on=['name', 'director'], right_on=['Title', 'Director'])\n",
    "movie_stg0.shape"
   ]
  },
  {
   "cell_type": "markdown",
   "metadata": {},
   "source": [
    "Movies seem to match after the inital merged using a pair of composite key, but there's only a few hundred of matched movies. "
   ]
  },
  {
   "cell_type": "code",
   "execution_count": 9,
   "metadata": {},
   "outputs": [
    {
     "data": {
      "text/plain": [
       "name                   0\n",
       "genre                  0\n",
       "score                  0\n",
       "director               0\n",
       "actor_2_name           0\n",
       "actor_1_name           0\n",
       "gross                  0\n",
       "budget                 0\n",
       "Rank                   0\n",
       "Title                  0\n",
       "Genre                  0\n",
       "Description            0\n",
       "Director               0\n",
       "Actors                 0\n",
       "Year                   0\n",
       "Runtime (Minutes)      0\n",
       "Rating                 0\n",
       "Votes                  0\n",
       "Revenue (Millions)     7\n",
       "Metascore             22\n",
       "dtype: int64"
      ]
     },
     "execution_count": 9,
     "metadata": {},
     "output_type": "execute_result"
    }
   ],
   "source": [
    "movie_stg0.isna().sum()"
   ]
  },
  {
   "cell_type": "code",
   "execution_count": 10,
   "metadata": {},
   "outputs": [],
   "source": [
    "# removing unrelevant/redundent attributes\n",
    "movie_stg1 = movie_stg0.drop(['name', 'genre', 'score', 'director', 'actor_2_name', 'actor_1_name', 'Rank'], axis=1)"
   ]
  },
  {
   "cell_type": "code",
   "execution_count": 11,
   "metadata": {},
   "outputs": [],
   "source": [
    "# Let's continue with raw3\n",
    "movie_stg1.rename(columns={'budget': 'Budget'}, inplace=True)\n",
    "\n",
    "movie_stg2 = movie_stg1.merge(raw3, left_on=['Title', 'Budget'], right_on=['title', 'budget'])\n",
    "#movie_stg2 = movie_stg1.join(raw3.set_index('title'), on='Title')"
   ]
  },
  {
   "cell_type": "code",
   "execution_count": 12,
   "metadata": {},
   "outputs": [
    {
     "data": {
      "text/plain": [
       "(505, 35)"
      ]
     },
     "execution_count": 12,
     "metadata": {},
     "output_type": "execute_result"
    }
   ],
   "source": [
    "movie_stg2.shape"
   ]
  },
  {
   "cell_type": "code",
   "execution_count": 13,
   "metadata": {},
   "outputs": [
    {
     "data": {
      "text/plain": [
       "gross                    0\n",
       "Budget                   0\n",
       "Title                    0\n",
       "Genre                    0\n",
       "Description              0\n",
       "Director                 0\n",
       "Actors                   0\n",
       "Year                     0\n",
       "Runtime (Minutes)        0\n",
       "Rating                   0\n",
       "Votes                    0\n",
       "Revenue (Millions)       7\n",
       "Metascore               20\n",
       "id                       0\n",
       "title                    0\n",
       "genres                   0\n",
       "original_language        0\n",
       "overview                 0\n",
       "popularity               0\n",
       "production_companies     2\n",
       "release_date             0\n",
       "budget                   0\n",
       "revenue                  0\n",
       "runtime                  0\n",
       "status                   0\n",
       "tagline                 22\n",
       "vote_average             0\n",
       "vote_count               0\n",
       "credits                  0\n",
       "keywords                 0\n",
       "poster_path              0\n",
       "backdrop_path            0\n",
       "recommendations          0\n",
       "trailer_views            0\n",
       "trailer_likes            0\n",
       "dtype: int64"
      ]
     },
     "execution_count": 13,
     "metadata": {},
     "output_type": "execute_result"
    }
   ],
   "source": [
    "movie_stg2.isna().sum()"
   ]
  },
  {
   "cell_type": "code",
   "execution_count": 14,
   "metadata": {},
   "outputs": [
    {
     "data": {
      "text/plain": [
       "Index(['gross', 'Budget', 'Title', 'Genre', 'Description', 'Director',\n",
       "       'Actors', 'Year', 'Runtime (Minutes)', 'Rating', 'Votes',\n",
       "       'Revenue (Millions)', 'Metascore', 'id', 'title', 'genres',\n",
       "       'original_language', 'overview', 'popularity', 'production_companies',\n",
       "       'release_date', 'budget', 'revenue', 'runtime', 'status', 'tagline',\n",
       "       'vote_average', 'vote_count', 'credits', 'keywords', 'poster_path',\n",
       "       'backdrop_path', 'recommendations', 'trailer_views', 'trailer_likes'],\n",
       "      dtype='object')"
      ]
     },
     "execution_count": 14,
     "metadata": {},
     "output_type": "execute_result"
    }
   ],
   "source": [
    "movie_stg2.columns"
   ]
  },
  {
   "cell_type": "code",
   "execution_count": 15,
   "metadata": {},
   "outputs": [],
   "source": [
    "# removing unrelevant/redundent attributes\n",
    "movie_stg3 = movie_stg2.drop(['id', 'genres', 'overview', 'Budget', 'runtime'], axis=1)"
   ]
  },
  {
   "cell_type": "code",
   "execution_count": 16,
   "metadata": {},
   "outputs": [
    {
     "data": {
      "text/plain": [
       "gross                    0\n",
       "Title                    0\n",
       "Genre                    0\n",
       "Description              0\n",
       "Director                 0\n",
       "Actors                   0\n",
       "Year                     0\n",
       "Runtime (Minutes)        0\n",
       "Rating                   0\n",
       "Votes                    0\n",
       "Revenue (Millions)       7\n",
       "Metascore               20\n",
       "title                    0\n",
       "original_language        0\n",
       "popularity               0\n",
       "production_companies     2\n",
       "release_date             0\n",
       "budget                   0\n",
       "revenue                  0\n",
       "status                   0\n",
       "tagline                 22\n",
       "vote_average             0\n",
       "vote_count               0\n",
       "credits                  0\n",
       "keywords                 0\n",
       "poster_path              0\n",
       "backdrop_path            0\n",
       "recommendations          0\n",
       "trailer_views            0\n",
       "trailer_likes            0\n",
       "dtype: int64"
      ]
     },
     "execution_count": 16,
     "metadata": {},
     "output_type": "execute_result"
    }
   ],
   "source": [
    "movie_stg3.isna().sum()"
   ]
  },
  {
   "cell_type": "code",
   "execution_count": 17,
   "metadata": {},
   "outputs": [
    {
     "data": {
      "text/plain": [
       "(505, 30)"
      ]
     },
     "execution_count": 17,
     "metadata": {},
     "output_type": "execute_result"
    }
   ],
   "source": [
    "movie_stg3.shape"
   ]
  },
  {
   "cell_type": "code",
   "execution_count": 18,
   "metadata": {},
   "outputs": [
    {
     "data": {
      "text/plain": [
       "Index(['name', 'rating', 'genre', 'year', 'released', 'score', 'votes',\n",
       "       'director', 'writer', 'star', 'country', 'budget', 'gross', 'company',\n",
       "       'runtime'],\n",
       "      dtype='object')"
      ]
     },
     "execution_count": 18,
     "metadata": {},
     "output_type": "execute_result"
    }
   ],
   "source": [
    "# Let's continue with raw4\n",
    "raw4.columns"
   ]
  },
  {
   "cell_type": "markdown",
   "metadata": {},
   "source": [
    "raw4 file doesn't seem to contain interesting/valuable information so we will avoid raw4"
   ]
  },
  {
   "cell_type": "code",
   "execution_count": 19,
   "metadata": {},
   "outputs": [],
   "source": [
    "movie_stg3.to_csv('data/many_attributes.csv')"
   ]
  }
 ],
 "metadata": {
  "kernelspec": {
   "display_name": "movie_env",
   "language": "python",
   "name": "python3"
  },
  "language_info": {
   "codemirror_mode": {
    "name": "ipython",
    "version": 3
   },
   "file_extension": ".py",
   "mimetype": "text/x-python",
   "name": "python",
   "nbconvert_exporter": "python",
   "pygments_lexer": "ipython3",
   "version": "3.13.1"
  }
 },
 "nbformat": 4,
 "nbformat_minor": 2
}
